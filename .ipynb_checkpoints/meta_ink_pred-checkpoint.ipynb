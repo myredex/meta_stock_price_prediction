{
 "cells": [
  {
   "cell_type": "markdown",
   "id": "24b74e01-c728-4884-9628-92095c57719a",
   "metadata": {},
   "source": [
    "# Meta Inc. Stock price predictions"
   ]
  },
  {
   "cell_type": "markdown",
   "id": "37f2839c-e71c-4616-8cc5-22847dbe8a85",
   "metadata": {},
   "source": [
    "Let's take a look to stock prices and market capitalisation as a result of how market reacts to financial statistics of the company. \n",
    "First of all we need to extract financial statistics from the web. After that we need to determine affection of this statistics to stock price and discover correlation.\n",
    "Final step will be building model to predict market capitalisation for the next quorter."
   ]
  },
  {
   "cell_type": "markdown",
   "id": "efcba19b-d5b5-4705-9854-f3c67a8edb4e",
   "metadata": {},
   "source": [
    "Import libraries"
   ]
  },
  {
   "cell_type": "code",
   "execution_count": 1,
   "id": "e2f9f7a1-e553-46f9-a68b-d42569eff49d",
   "metadata": {},
   "outputs": [
    {
     "name": "stdout",
     "output_type": "stream",
     "text": [
      "\n",
      "                  __    __    __    __\n",
      "                 /  \\  /  \\  /  \\  /  \\\n",
      "                /    \\/    \\/    \\/    \\\n",
      "███████████████/  /██/  /██/  /██/  /████████████████████████\n",
      "              /  / \\   / \\   / \\   / \\  \\____\n",
      "             /  /   \\_/   \\_/   \\_/   \\    o \\__,\n",
      "            / _/                       \\_____/  `\n",
      "            |/\n",
      "        ███╗   ███╗ █████╗ ███╗   ███╗██████╗  █████╗\n",
      "        ████╗ ████║██╔══██╗████╗ ████║██╔══██╗██╔══██╗\n",
      "        ██╔████╔██║███████║██╔████╔██║██████╔╝███████║\n",
      "        ██║╚██╔╝██║██╔══██║██║╚██╔╝██║██╔══██╗██╔══██║\n",
      "        ██║ ╚═╝ ██║██║  ██║██║ ╚═╝ ██║██████╔╝██║  ██║\n",
      "        ╚═╝     ╚═╝╚═╝  ╚═╝╚═╝     ╚═╝╚═════╝ ╚═╝  ╚═╝\n",
      "\n",
      "        mamba (0.7.6) supported by @QuantStack\n",
      "\n",
      "        GitHub:  https://github.com/mamba-org/mamba\n",
      "        Twitter: https://twitter.com/QuantStack\n",
      "\n",
      "█████████████████████████████████████████████████████████████\n",
      "\n",
      "\n",
      "Looking for: ['bs4==4.10.0']\n",
      "\n",
      "pkgs/main/noarch         [<=>                 ] (00m:00s) \n",
      "pkgs/main/noarch         [=>              ] (00m:00s) 124 KB / ?? (308.07 KB/s)\n",
      "pkgs/main/noarch         [<=>                 ] (00m:00s) Finalizing...\n",
      "pkgs/main/noarch         [<=>                 ] (00m:00s) Done\n",
      "pkgs/main/noarch         [====================] (00m:00s) Done\n",
      "pkgs/main/noarch         [====================] (00m:00s) Done\n",
      "pkgs/r/linux-64          [<=>                 ] (00m:00s) \n",
      "pkgs/r/linux-64          [=>               ] (00m:00s) 64 KB / ?? (114.58 KB/s)\n",
      "pkgs/r/linux-64          [=>               ] (00m:00s) 64 KB / ?? (114.58 KB/s)\n",
      "pkgs/r/noarch            [<=>                 ] (00m:00s) \n",
      "pkgs/r/linux-64          [=>               ] (00m:00s) 64 KB / ?? (114.58 KB/s)\n",
      "pkgs/r/noarch            [=>               ] (00m:00s) 58 KB / ?? (102.51 KB/s)\n",
      "pkgs/r/linux-64          [<=>              ] (00m:00s) 64 KB / ?? (114.58 KB/s)\n",
      "pkgs/r/noarch            [=>               ] (00m:00s) 58 KB / ?? (102.51 KB/s)\n",
      "pkgs/r/linux-64          [<=>               ] (00m:00s) 828 KB / ?? (1.14 MB/s)\n",
      "pkgs/r/noarch            [=>               ] (00m:00s) 58 KB / ?? (102.51 KB/s)\n",
      "pkgs/r/linux-64          [<=>               ] (00m:00s) 828 KB / ?? (1.14 MB/s)\n",
      "pkgs/r/noarch            [<=>              ] (00m:00s) 58 KB / ?? (102.51 KB/s)\n",
      "pkgs/r/linux-64          [<=>               ] (00m:00s) 828 KB / ?? (1.14 MB/s)\n",
      "pkgs/r/noarch            [<=>               ] (00m:00s) 768 KB / ?? (1.05 MB/s)\n",
      "pkgs/r/linux-64          [<=>               ] (00m:00s) 828 KB / ?? (1.14 MB/s)\n",
      "pkgs/r/noarch            [ <=>                ] (00m:00s) Finalizing...\n",
      "pkgs/r/linux-64          [<=>               ] (00m:00s) 828 KB / ?? (1.14 MB/s)\n",
      "pkgs/r/noarch            [ <=>                ] (00m:00s) Done\n",
      "pkgs/r/linux-64          [<=>               ] (00m:00s) 828 KB / ?? (1.14 MB/s)\n",
      "pkgs/r/noarch            [====================] (00m:00s) Done\n",
      "pkgs/r/noarch            [====================] (00m:00s) Done\n",
      "pkgs/r/linux-64          [<=>               ] (00m:00s) 828 KB / ?? (1.14 MB/s)\n",
      "pkgs/r/linux-64          [ <=>                ] (00m:00s) Finalizing...\n",
      "pkgs/r/linux-64          [ <=>                ] (00m:00s) Done\n",
      "pkgs/r/linux-64          [====================] (00m:00s) Done\n",
      "pkgs/r/linux-64          [====================] (00m:00s) Done\n",
      "pkgs/main/linux-64       [<=>                 ] (00m:00s) \n",
      "pkgs/main/linux-64       [=>              ] (00m:00s) 509  B / ?? (588.00  B/s)\n",
      "pkgs/main/linux-64       [<=>             ] (00m:00s) 509  B / ?? (588.00  B/s)\n",
      "pkgs/main/linux-64       [<=>               ] (00m:00s) 60 KB / ?? (56.57 KB/s)\n",
      "pkgs/main/linux-64       [ <=>              ] (00m:00s) 60 KB / ?? (56.57 KB/s)\n",
      "pkgs/main/linux-64       [ <=>            ] (00m:00s) 184 KB / ?? (150.46 KB/s)\n",
      "pkgs/main/linux-64       [  <=>           ] (00m:00s) 184 KB / ?? (150.46 KB/s)\n",
      "pkgs/main/linux-64       [  <=>           ] (00m:00s) 448 KB / ?? (325.14 KB/s)\n",
      "pkgs/main/linux-64       [   <=>          ] (00m:00s) 448 KB / ?? (325.14 KB/s)\n",
      "pkgs/main/linux-64       [   <=>          ] (00m:00s) 548 KB / ?? (358.36 KB/s)\n",
      "pkgs/main/linux-64       [   <=>          ] (00m:00s) 548 KB / ?? (358.36 KB/s)\n",
      "pkgs/main/linux-64       [   <=>         ] (00m:00s) 1008 KB / ?? (599.55 KB/s)\n",
      "pkgs/main/linux-64       [    <=>        ] (00m:00s) 1008 KB / ?? (599.55 KB/s)\n",
      "pkgs/main/linux-64       [     <=>          ] (00m:00s) 1 MB / ?? (715.85 KB/s)\n",
      "pkgs/main/linux-64       [      <=>         ] (00m:01s) 1 MB / ?? (715.85 KB/s)\n",
      "pkgs/main/linux-64       [      <=>         ] (00m:01s) 2 MB / ?? (871.13 KB/s)\n",
      "pkgs/main/linux-64       [       <=>        ] (00m:01s) 2 MB / ?? (871.13 KB/s)\n",
      "pkgs/main/linux-64       [        <=>         ] (00m:01s) 2 MB / ?? (1.01 MB/s)\n",
      "pkgs/main/linux-64       [         <=>        ] (00m:01s) 2 MB / ?? (1.01 MB/s)\n",
      "pkgs/main/linux-64       [         <=>        ] (00m:01s) 3 MB / ?? (1.17 MB/s)\n",
      "pkgs/main/linux-64       [          <=>       ] (00m:01s) 3 MB / ?? (1.17 MB/s)\n",
      "pkgs/main/linux-64       [          <=>       ] (00m:01s) 3 MB / ?? (1.27 MB/s)\n",
      "pkgs/main/linux-64       [           <=>      ] (00m:01s) 3 MB / ?? (1.27 MB/s)\n",
      "pkgs/main/linux-64       [           <=>      ] (00m:01s) 3 MB / ?? (1.27 MB/s)\n",
      "pkgs/main/linux-64       [            <=>     ] (00m:01s) 3 MB / ?? (1.27 MB/s)\n",
      "pkgs/main/linux-64       [            <=>     ] (00m:01s) 3 MB / ?? (1.21 MB/s)\n",
      "pkgs/main/linux-64       [             <=>    ] (00m:02s) 3 MB / ?? (1.21 MB/s)\n",
      "pkgs/main/linux-64       [             <=>    ] (00m:02s) 4 MB / ?? (1.36 MB/s)\n",
      "pkgs/main/linux-64       [             <=>    ] (00m:02s) Finalizing...\n",
      "pkgs/main/linux-64       [             <=>    ] (00m:02s) Done\n",
      "pkgs/main/linux-64       [====================] (00m:02s) Done\n",
      "pkgs/main/linux-64       [====================] (00m:02s) Done\n",
      "Transaction\n",
      "\n",
      "  Prefix: /home/timur/anaconda3\n",
      "\n",
      "  All requested packages already installed\n",
      "\n",
      "\n",
      "                  __    __    __    __\n",
      "                 /  \\  /  \\  /  \\  /  \\\n",
      "                /    \\/    \\/    \\/    \\\n",
      "███████████████/  /██/  /██/  /██/  /████████████████████████\n",
      "              /  / \\   / \\   / \\   / \\  \\____\n",
      "             /  /   \\_/   \\_/   \\_/   \\    o \\__,\n",
      "            / _/                       \\_____/  `\n",
      "            |/\n",
      "        ███╗   ███╗ █████╗ ███╗   ███╗██████╗  █████╗\n",
      "        ████╗ ████║██╔══██╗████╗ ████║██╔══██╗██╔══██╗\n",
      "        ██╔████╔██║███████║██╔████╔██║██████╔╝███████║\n",
      "        ██║╚██╔╝██║██╔══██║██║╚██╔╝██║██╔══██╗██╔══██║\n",
      "        ██║ ╚═╝ ██║██║  ██║██║ ╚═╝ ██║██████╔╝██║  ██║\n",
      "        ╚═╝     ╚═╝╚═╝  ╚═╝╚═╝     ╚═╝╚═════╝ ╚═╝  ╚═╝\n",
      "\n",
      "        mamba (0.7.6) supported by @QuantStack\n",
      "\n",
      "        GitHub:  https://github.com/mamba-org/mamba\n",
      "        Twitter: https://twitter.com/QuantStack\n",
      "\n",
      "█████████████████████████████████████████████████████████████\n",
      "\n",
      "\n",
      "Looking for: ['html5lib==1.1']\n",
      "\n",
      "pkgs/main/linux-64       Using cache\n",
      "pkgs/main/noarch         Using cache\n",
      "pkgs/r/linux-64          Using cache\n",
      "pkgs/r/noarch            Using cache\n",
      "Transaction\n",
      "\n",
      "  Prefix: /home/timur/anaconda3\n",
      "\n",
      "  All requested packages already installed\n",
      "\n"
     ]
    }
   ],
   "source": [
    "import pandas as pd\n",
    "!mamba install bs4==4.10.0 -y\n",
    "!mamba install html5lib==1.1 -y"
   ]
  },
  {
   "cell_type": "code",
   "execution_count": 2,
   "id": "4d2cd1f6-ef02-4372-b238-ea0166ec327a",
   "metadata": {},
   "outputs": [],
   "source": [
    "#Import libraries for webscrapping\n",
    "import requests\n",
    "from bs4 import BeautifulSoup"
   ]
  },
  {
   "cell_type": "markdown",
   "id": "e18afb89-bc39-432c-82a7-dc14314c0692",
   "metadata": {},
   "source": [
    "Set url and get request"
   ]
  },
  {
   "cell_type": "code",
   "execution_count": 3,
   "id": "a73ba4a6-9136-40d1-9baf-90c9e186949a",
   "metadata": {},
   "outputs": [
    {
     "data": {
      "text/plain": [
       "<title>Meta Platforms Revenue 2010-2022 | META | MacroTrends</title>"
      ]
     },
     "execution_count": 3,
     "metadata": {},
     "output_type": "execute_result"
    }
   ],
   "source": [
    "url = \"https://www.macrotrends.net/stocks/charts/META/meta-platforms/revenue\"\n",
    "\n",
    "html_data = requests.get(url).text   #get data from the webpage\n",
    "souped_html = BeautifulSoup(html_data, 'html5lib') #Use beautifulsoup\n",
    "souped_html.title"
   ]
  },
  {
   "cell_type": "code",
   "execution_count": 4,
   "id": "3cac8462-8de8-410c-a9f7-b10252e35478",
   "metadata": {},
   "outputs": [
    {
     "name": "stdout",
     "output_type": "stream",
     "text": [
      "Missed rows: 1\n"
     ]
    }
   ],
   "source": [
    "# Find the second table with Quarterly Revenue /or use 0 for first table\n",
    "revenue_table = souped_html.find_all('table')[1]   \n",
    "\n",
    "#Create blank dataframe \n",
    "revenue_dataframe = pd.DataFrame(columns=[\"Date\", \"Revenue\"]) \n",
    " \n",
    "# Find all tr tags and put data into Dataframe\n",
    "count_of_missed_rows = 0\n",
    "for row in revenue_table.find(\"tbody\").find_all(\"tr\"):  \n",
    "\n",
    "    col = row.find_all(\"td\") \n",
    "    date = col[0].text \n",
    "    Revenue = col[1].text\n",
    "    Revenue = Revenue.replace('$', '').replace(',', '')\n",
    "\n",
    "    if Revenue.isdigit():\n",
    "        Revenue = float(Revenue)\n",
    "        revenue_dataframe = revenue_dataframe.append({\"Date\":date, \"Revenue\":Revenue}, ignore_index=True)\n",
    "    else: \n",
    "        count_of_missed_rows = count_of_missed_rows + 1\n",
    "        \n",
    "print(\"Missed rows:\", count_of_missed_rows) #How many rows were missed"
   ]
  },
  {
   "cell_type": "code",
   "execution_count": 8,
   "id": "933cc496-892b-4c4b-8f0b-8c5fb6d8e436",
   "metadata": {},
   "outputs": [],
   "source": [
    "market_cap_url = \"https://www.marketcaphistory.com/meta-platforms/\""
   ]
  },
  {
   "cell_type": "code",
   "execution_count": 9,
   "id": "56617172-a7a8-4a62-b327-681bbc199e8e",
   "metadata": {},
   "outputs": [
    {
     "data": {
      "text/plain": [
       "<title>Meta Platforms Market Cap History</title>"
      ]
     },
     "execution_count": 9,
     "metadata": {},
     "output_type": "execute_result"
    }
   ],
   "source": [
    "html_data_mc = requests.get(market_cap_url).text   #get data from the webpage\n",
    "souped_html_mc = BeautifulSoup(html_data_mc, 'html5lib') #Use beautifulsoup\n",
    "souped_html_mc.title"
   ]
  },
  {
   "cell_type": "code",
   "execution_count": 47,
   "id": "5033ef2b-11e0-4685-9db5-e155bb8f5feb",
   "metadata": {},
   "outputs": [],
   "source": [
    "# Find the second table with Quarterly Revenue /or use 0 for first table\n",
    "mc_table = souped_html_mc.find_all('table')[1]  \n",
    "\n",
    "#Create blank dataframe \n",
    "mc_dataframe = pd.DataFrame(columns=[\"Date\", \"Market Cap (millions)\"])"
   ]
  },
  {
   "cell_type": "code",
   "execution_count": 48,
   "id": "590e9af7-550b-474e-8f5d-ee771243d3b1",
   "metadata": {},
   "outputs": [
    {
     "name": "stdout",
     "output_type": "stream",
     "text": [
      "Date F0 Market Cap\n",
      "5/18/2012 24310\n",
      "7/25/2012 19790\n",
      "10/22/2012 21240\n",
      "1/29/2013 51860\n",
      "4/30/2013 48590\n",
      "7/23/2013 47490\n",
      "10/29/2013 92580\n",
      "1/28/2014 108940\n",
      "4/22/2014 125660\n",
      "7/22/2014 139580\n",
      "10/27/2014 178540\n",
      "1/27/2015 169470\n",
      "4/21/2015 188050\n",
      "7/27/2015 212800\n",
      "11/2/2015 234560\n",
      "1/25/2016 222630\n",
      "4/25/2016 254540\n",
      "7/25/2016 282540\n",
      "10/28/2016 307330\n",
      "1/30/2017 308480\n",
      "5/1/2017 360530\n",
      "7/24/2017 393480\n",
      "10/30/2017 428950\n",
      "1/29/2018 445590\n",
      "4/23/2018 397780\n",
      "7/23/2018 508650\n",
      "10/26/2018 349250\n",
      "1/28/2019 351790\n",
      "4/22/2019 435920\n",
      "7/19/2019 477200\n",
      "8/10/2015 57341M\n",
      "10/25/2019 452150\n",
      "1/23/2020 528690\n",
      "4/24/2020 457030\n",
      "7/23/2020 559240\n",
      "10/23/2020 684630\n",
      "1/22/2021 660300\n",
      "4/23/2021 721520\n",
      "7/23/2021 881510\n",
      "10/20/2021 806380\n",
      "1/28/2022 696670\n",
      "4/22/2022 422260\n",
      "Missed rows: 2\n"
     ]
    }
   ],
   "source": [
    "# Find all tr tags and put data into Dataframe\n",
    "count_of_missed_rows = 0\n",
    "for row in mc_table.find(\"tbody\").find_all(\"tr\"):  \n",
    "\n",
    "    col = row.find_all(\"td\") \n",
    "    date = col[0].text \n",
    "    MarketCap = col[1].text\n",
    "    MarketCap = MarketCap.replace('B', '0').replace('.', '')\n",
    "    print(date, MarketCap)\n",
    "    if MarketCap.isdigit():\n",
    "        MarketCap = float(MarketCap)\n",
    "        mc_dataframe = mc_dataframe.append({\"Date\":date, \"Market Cap (millions)\":MarketCap}, ignore_index=True)\n",
    "    else: \n",
    "        count_of_missed_rows = count_of_missed_rows + 1\n",
    "        \n",
    "print(\"Missed rows:\", count_of_missed_rows) #How many rows were missed"
   ]
  },
  {
   "cell_type": "code",
   "execution_count": 49,
   "id": "90b11e88-43e8-4783-9276-e948c7e56c82",
   "metadata": {},
   "outputs": [
    {
     "data": {
      "text/html": [
       "<div>\n",
       "<style scoped>\n",
       "    .dataframe tbody tr th:only-of-type {\n",
       "        vertical-align: middle;\n",
       "    }\n",
       "\n",
       "    .dataframe tbody tr th {\n",
       "        vertical-align: top;\n",
       "    }\n",
       "\n",
       "    .dataframe thead th {\n",
       "        text-align: right;\n",
       "    }\n",
       "</style>\n",
       "<table border=\"1\" class=\"dataframe\">\n",
       "  <thead>\n",
       "    <tr style=\"text-align: right;\">\n",
       "      <th></th>\n",
       "      <th>Date</th>\n",
       "      <th>Market Cap (millions)</th>\n",
       "    </tr>\n",
       "  </thead>\n",
       "  <tbody>\n",
       "    <tr>\n",
       "      <th>0</th>\n",
       "      <td>5/18/2012</td>\n",
       "      <td>24310.0</td>\n",
       "    </tr>\n",
       "    <tr>\n",
       "      <th>1</th>\n",
       "      <td>7/25/2012</td>\n",
       "      <td>19790.0</td>\n",
       "    </tr>\n",
       "    <tr>\n",
       "      <th>2</th>\n",
       "      <td>10/22/2012</td>\n",
       "      <td>21240.0</td>\n",
       "    </tr>\n",
       "    <tr>\n",
       "      <th>3</th>\n",
       "      <td>1/29/2013</td>\n",
       "      <td>51860.0</td>\n",
       "    </tr>\n",
       "    <tr>\n",
       "      <th>4</th>\n",
       "      <td>4/30/2013</td>\n",
       "      <td>48590.0</td>\n",
       "    </tr>\n",
       "  </tbody>\n",
       "</table>\n",
       "</div>"
      ],
      "text/plain": [
       "         Date  Market Cap (millions)\n",
       "0   5/18/2012                24310.0\n",
       "1   7/25/2012                19790.0\n",
       "2  10/22/2012                21240.0\n",
       "3   1/29/2013                51860.0\n",
       "4   4/30/2013                48590.0"
      ]
     },
     "execution_count": 49,
     "metadata": {},
     "output_type": "execute_result"
    }
   ],
   "source": [
    "mc_dataframe.head()"
   ]
  },
  {
   "cell_type": "code",
   "execution_count": 52,
   "id": "608367c4-cdb4-4449-855d-32bc387440c8",
   "metadata": {},
   "outputs": [
    {
     "data": {
      "text/plain": [
       "(41, 2)"
      ]
     },
     "execution_count": 52,
     "metadata": {},
     "output_type": "execute_result"
    }
   ],
   "source": [
    "mc_dataframe.shape"
   ]
  },
  {
   "cell_type": "code",
   "execution_count": null,
   "id": "f04696ab-4bc3-4a22-90b7-eb4c69e77853",
   "metadata": {},
   "outputs": [],
   "source": []
  }
 ],
 "metadata": {
  "kernelspec": {
   "display_name": "Python 3 (ipykernel)",
   "language": "python",
   "name": "python3"
  },
  "language_info": {
   "codemirror_mode": {
    "name": "ipython",
    "version": 3
   },
   "file_extension": ".py",
   "mimetype": "text/x-python",
   "name": "python",
   "nbconvert_exporter": "python",
   "pygments_lexer": "ipython3",
   "version": "3.9.7"
  }
 },
 "nbformat": 4,
 "nbformat_minor": 5
}
