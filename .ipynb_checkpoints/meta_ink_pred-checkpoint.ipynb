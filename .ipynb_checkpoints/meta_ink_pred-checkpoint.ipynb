{
 "cells": [
  {
   "cell_type": "markdown",
   "id": "24b74e01-c728-4884-9628-92095c57719a",
   "metadata": {},
   "source": [
    "# Meta Inc. Stock price predictions"
   ]
  },
  {
   "cell_type": "markdown",
   "id": "37f2839c-e71c-4616-8cc5-22847dbe8a85",
   "metadata": {},
   "source": [
    "Let's take a look to stock prices and market capitalisation as a result of how market reacts to financial statistics of the company. \n",
    "First of all we need to extract financial statistics from the web. After that we need to determine affection of this statistics to stock price and discover correlation.\n",
    "Final step will be building model to predict market capitalisation for the next quorter."
   ]
  },
  {
   "cell_type": "markdown",
   "id": "efcba19b-d5b5-4705-9854-f3c67a8edb4e",
   "metadata": {},
   "source": [
    "Import libraries"
   ]
  },
  {
   "cell_type": "code",
   "execution_count": 1,
   "id": "e2f9f7a1-e553-46f9-a68b-d42569eff49d",
   "metadata": {},
   "outputs": [
    {
     "name": "stdout",
     "output_type": "stream",
     "text": [
      "\n",
      "                  __    __    __    __\n",
      "                 /  \\  /  \\  /  \\  /  \\\n",
      "                /    \\/    \\/    \\/    \\\n",
      "███████████████/  /██/  /██/  /██/  /████████████████████████\n",
      "              /  / \\   / \\   / \\   / \\  \\____\n",
      "             /  /   \\_/   \\_/   \\_/   \\    o \\__,\n",
      "            / _/                       \\_____/  `\n",
      "            |/\n",
      "        ███╗   ███╗ █████╗ ███╗   ███╗██████╗  █████╗\n",
      "        ████╗ ████║██╔══██╗████╗ ████║██╔══██╗██╔══██╗\n",
      "        ██╔████╔██║███████║██╔████╔██║██████╔╝███████║\n",
      "        ██║╚██╔╝██║██╔══██║██║╚██╔╝██║██╔══██╗██╔══██║\n",
      "        ██║ ╚═╝ ██║██║  ██║██║ ╚═╝ ██║██████╔╝██║  ██║\n",
      "        ╚═╝     ╚═╝╚═╝  ╚═╝╚═╝     ╚═╝╚═════╝ ╚═╝  ╚═╝\n",
      "\n",
      "        mamba (0.7.6) supported by @QuantStack\n",
      "\n",
      "        GitHub:  https://github.com/mamba-org/mamba\n",
      "        Twitter: https://twitter.com/QuantStack\n",
      "\n",
      "█████████████████████████████████████████████████████████████\n",
      "\n",
      "\n",
      "Looking for: ['bs4==4.10.0']\n",
      "\n",
      "pkgs/main/noarch         [=>                  ] (--:--) No change\n",
      "pkgs/main/noarch         [====================] (00m:00s) No change\n",
      "pkgs/main/noarch         [====================] (00m:00s) No change\n",
      "pkgs/r/linux-64          [=>                  ] (--:--) No change\n",
      "pkgs/r/linux-64          [====================] (00m:00s) No change\n",
      "pkgs/r/linux-64          [====================] (00m:00s) No change\n",
      "pkgs/r/noarch            [=>                  ] (--:--) No change\n",
      "pkgs/r/noarch            [====================] (00m:00s) No change\n",
      "pkgs/r/noarch            [====================] (00m:00s) No change\n",
      "pkgs/main/linux-64       [<=>                 ] (00m:00s) \n",
      "pkgs/main/linux-64       [=>              ] (00m:00s) 124 KB / ?? (160.26 KB/s)\n",
      "pkgs/main/linux-64       [<=>             ] (00m:00s) 124 KB / ?? (160.26 KB/s)\n",
      "pkgs/main/linux-64       [<=>             ] (00m:00s) 688 KB / ?? (743.86 KB/s)\n",
      "pkgs/main/linux-64       [ <=>            ] (00m:00s) 688 KB / ?? (743.86 KB/s)\n",
      "pkgs/main/linux-64       [  <=>               ] (00m:00s) 1 MB / ?? (1.37 MB/s)\n",
      "pkgs/main/linux-64       [   <=>              ] (00m:00s) 1 MB / ?? (1.37 MB/s)\n",
      "pkgs/main/linux-64       [   <=>              ] (00m:00s) 2 MB / ?? (2.02 MB/s)\n",
      "pkgs/main/linux-64       [    <=>             ] (00m:00s) 2 MB / ?? (2.02 MB/s)\n",
      "pkgs/main/linux-64       [    <=>             ] (00m:00s) 3 MB / ?? (2.40 MB/s)\n",
      "pkgs/main/linux-64       [     <=>            ] (00m:00s) 3 MB / ?? (2.40 MB/s)\n",
      "pkgs/main/linux-64       [     <=>            ] (00m:00s) 4 MB / ?? (2.70 MB/s)\n",
      "pkgs/main/linux-64       [     <=>            ] (00m:00s) Finalizing...\n",
      "pkgs/main/linux-64       [     <=>            ] (00m:00s) Done\n",
      "pkgs/main/linux-64       [====================] (00m:00s) Done\n",
      "pkgs/main/linux-64       [====================] (00m:00s) Done\n",
      "Transaction\n",
      "\n",
      "  Prefix: /home/timur/anaconda3\n",
      "\n",
      "  All requested packages already installed\n",
      "\n",
      "\n",
      "                  __    __    __    __\n",
      "                 /  \\  /  \\  /  \\  /  \\\n",
      "                /    \\/    \\/    \\/    \\\n",
      "███████████████/  /██/  /██/  /██/  /████████████████████████\n",
      "              /  / \\   / \\   / \\   / \\  \\____\n",
      "             /  /   \\_/   \\_/   \\_/   \\    o \\__,\n",
      "            / _/                       \\_____/  `\n",
      "            |/\n",
      "        ███╗   ███╗ █████╗ ███╗   ███╗██████╗  █████╗\n",
      "        ████╗ ████║██╔══██╗████╗ ████║██╔══██╗██╔══██╗\n",
      "        ██╔████╔██║███████║██╔████╔██║██████╔╝███████║\n",
      "        ██║╚██╔╝██║██╔══██║██║╚██╔╝██║██╔══██╗██╔══██║\n",
      "        ██║ ╚═╝ ██║██║  ██║██║ ╚═╝ ██║██████╔╝██║  ██║\n",
      "        ╚═╝     ╚═╝╚═╝  ╚═╝╚═╝     ╚═╝╚═════╝ ╚═╝  ╚═╝\n",
      "\n",
      "        mamba (0.7.6) supported by @QuantStack\n",
      "\n",
      "        GitHub:  https://github.com/mamba-org/mamba\n",
      "        Twitter: https://twitter.com/QuantStack\n",
      "\n",
      "█████████████████████████████████████████████████████████████\n",
      "\n",
      "\n",
      "Looking for: ['html5lib==1.1']\n",
      "\n",
      "pkgs/main/linux-64       Using cache\n",
      "pkgs/main/noarch         Using cache\n",
      "pkgs/r/linux-64          Using cache\n",
      "pkgs/r/noarch            Using cache\n",
      "Transaction\n",
      "\n",
      "  Prefix: /home/timur/anaconda3\n",
      "\n",
      "  All requested packages already installed\n",
      "\n"
     ]
    }
   ],
   "source": [
    "import pandas as pd\n",
    "!mamba install bs4==4.10.0 -y\n",
    "!mamba install html5lib==1.1 -y"
   ]
  },
  {
   "cell_type": "code",
   "execution_count": 2,
   "id": "4d2cd1f6-ef02-4372-b238-ea0166ec327a",
   "metadata": {},
   "outputs": [],
   "source": [
    "#Import libraries for webscrapping\n",
    "import requests\n",
    "from bs4 import BeautifulSoup"
   ]
  },
  {
   "cell_type": "markdown",
   "id": "e18afb89-bc39-432c-82a7-dc14314c0692",
   "metadata": {},
   "source": [
    "Set url and get request"
   ]
  },
  {
   "cell_type": "code",
   "execution_count": 3,
   "id": "a73ba4a6-9136-40d1-9baf-90c9e186949a",
   "metadata": {},
   "outputs": [
    {
     "data": {
      "text/plain": [
       "<title>Meta Platforms Revenue 2010-2022 | META | MacroTrends</title>"
      ]
     },
     "execution_count": 3,
     "metadata": {},
     "output_type": "execute_result"
    }
   ],
   "source": [
    "url = \"https://www.macrotrends.net/stocks/charts/META/meta-platforms/revenue\"\n",
    "\n",
    "html_data = requests.get(url).text   #get data from the webpage\n",
    "souped_html = BeautifulSoup(html_data, 'html5lib') #Use beautifulsoup\n",
    "souped_html.title"
   ]
  },
  {
   "cell_type": "code",
   "execution_count": 4,
   "id": "3cac8462-8de8-410c-a9f7-b10252e35478",
   "metadata": {},
   "outputs": [
    {
     "name": "stdout",
     "output_type": "stream",
     "text": [
      "Missed rows: 1\n"
     ]
    }
   ],
   "source": [
    "# Find the second table with Quarterly Revenue /or use 0 for first table\n",
    "revenue_table = souped_html.find_all('table')[1]   \n",
    "\n",
    "#Create blank dataframe \n",
    "revenue_dataframe = pd.DataFrame(columns=[\"Date\", \"Revenue\"]) \n",
    " \n",
    "# Find all tr tags and put data into Dataframe\n",
    "count_of_missed_rows = 0\n",
    "for row in revenue_table.find(\"tbody\").find_all(\"tr\"):  \n",
    "\n",
    "    col = row.find_all(\"td\") \n",
    "    date = col[0].text \n",
    "    Revenue = col[1].text\n",
    "    Revenue = Revenue.replace('$', '').replace(',', '')\n",
    "\n",
    "    if Revenue.isdigit():\n",
    "        Revenue = float(Revenue)\n",
    "        revenue_dataframe = revenue_dataframe.append({\"Date\":date, \"Revenue\":Revenue}, ignore_index=True)\n",
    "    else: \n",
    "        count_of_missed_rows = count_of_missed_rows + 1\n",
    "        \n",
    "print(\"Missed rows:\", count_of_missed_rows) #How many rows were missed"
   ]
  },
  {
   "cell_type": "code",
   "execution_count": 5,
   "id": "2828abf4-e318-444c-8729-42ce18f3a949",
   "metadata": {},
   "outputs": [
    {
     "data": {
      "text/html": [
       "<div>\n",
       "<style scoped>\n",
       "    .dataframe tbody tr th:only-of-type {\n",
       "        vertical-align: middle;\n",
       "    }\n",
       "\n",
       "    .dataframe tbody tr th {\n",
       "        vertical-align: top;\n",
       "    }\n",
       "\n",
       "    .dataframe thead th {\n",
       "        text-align: right;\n",
       "    }\n",
       "</style>\n",
       "<table border=\"1\" class=\"dataframe\">\n",
       "  <thead>\n",
       "    <tr style=\"text-align: right;\">\n",
       "      <th></th>\n",
       "      <th>Date</th>\n",
       "      <th>Revenue</th>\n",
       "    </tr>\n",
       "  </thead>\n",
       "  <tbody>\n",
       "    <tr>\n",
       "      <th>0</th>\n",
       "      <td>2022-06-30</td>\n",
       "      <td>28822.0</td>\n",
       "    </tr>\n",
       "    <tr>\n",
       "      <th>1</th>\n",
       "      <td>2022-03-31</td>\n",
       "      <td>27908.0</td>\n",
       "    </tr>\n",
       "    <tr>\n",
       "      <th>2</th>\n",
       "      <td>2021-12-31</td>\n",
       "      <td>33671.0</td>\n",
       "    </tr>\n",
       "    <tr>\n",
       "      <th>3</th>\n",
       "      <td>2021-09-30</td>\n",
       "      <td>29010.0</td>\n",
       "    </tr>\n",
       "    <tr>\n",
       "      <th>4</th>\n",
       "      <td>2021-06-30</td>\n",
       "      <td>29077.0</td>\n",
       "    </tr>\n",
       "  </tbody>\n",
       "</table>\n",
       "</div>"
      ],
      "text/plain": [
       "         Date  Revenue\n",
       "0  2022-06-30  28822.0\n",
       "1  2022-03-31  27908.0\n",
       "2  2021-12-31  33671.0\n",
       "3  2021-09-30  29010.0\n",
       "4  2021-06-30  29077.0"
      ]
     },
     "execution_count": 5,
     "metadata": {},
     "output_type": "execute_result"
    }
   ],
   "source": [
    "revenue_dataframe.head()"
   ]
  },
  {
   "cell_type": "code",
   "execution_count": 231,
   "id": "e689d357-a726-429d-ae17-7e334f440407",
   "metadata": {},
   "outputs": [
    {
     "data": {
      "text/html": [
       "<div>\n",
       "<style scoped>\n",
       "    .dataframe tbody tr th:only-of-type {\n",
       "        vertical-align: middle;\n",
       "    }\n",
       "\n",
       "    .dataframe tbody tr th {\n",
       "        vertical-align: top;\n",
       "    }\n",
       "\n",
       "    .dataframe thead th {\n",
       "        text-align: right;\n",
       "    }\n",
       "</style>\n",
       "<table border=\"1\" class=\"dataframe\">\n",
       "  <thead>\n",
       "    <tr style=\"text-align: right;\">\n",
       "      <th></th>\n",
       "      <th>Date</th>\n",
       "      <th>Revenue</th>\n",
       "    </tr>\n",
       "  </thead>\n",
       "  <tbody>\n",
       "    <tr>\n",
       "      <th>45</th>\n",
       "      <td>2011-03-31</td>\n",
       "      <td>731.0</td>\n",
       "    </tr>\n",
       "    <tr>\n",
       "      <th>46</th>\n",
       "      <td>2010-12-31</td>\n",
       "      <td>731.0</td>\n",
       "    </tr>\n",
       "    <tr>\n",
       "      <th>47</th>\n",
       "      <td>2010-09-30</td>\n",
       "      <td>467.0</td>\n",
       "    </tr>\n",
       "    <tr>\n",
       "      <th>48</th>\n",
       "      <td>2010-06-30</td>\n",
       "      <td>431.0</td>\n",
       "    </tr>\n",
       "    <tr>\n",
       "      <th>49</th>\n",
       "      <td>2010-03-31</td>\n",
       "      <td>345.0</td>\n",
       "    </tr>\n",
       "  </tbody>\n",
       "</table>\n",
       "</div>"
      ],
      "text/plain": [
       "          Date  Revenue\n",
       "45  2011-03-31    731.0\n",
       "46  2010-12-31    731.0\n",
       "47  2010-09-30    467.0\n",
       "48  2010-06-30    431.0\n",
       "49  2010-03-31    345.0"
      ]
     },
     "execution_count": 231,
     "metadata": {},
     "output_type": "execute_result"
    }
   ],
   "source": [
    "revenue_dataframe.tail()"
   ]
  },
  {
   "cell_type": "code",
   "execution_count": 6,
   "id": "c766f0f4-4ee1-45f3-b741-f3ff5276b243",
   "metadata": {},
   "outputs": [
    {
     "data": {
      "text/plain": [
       "Date        object\n",
       "Revenue    float64\n",
       "dtype: object"
      ]
     },
     "execution_count": 6,
     "metadata": {},
     "output_type": "execute_result"
    }
   ],
   "source": [
    "revenue_dataframe.dtypes"
   ]
  },
  {
   "cell_type": "markdown",
   "id": "daddf9fd-3aba-411e-af2a-4cb9fb25c95f",
   "metadata": {},
   "source": [
    "Now when revenue data extracted we need stocks price data."
   ]
  },
  {
   "cell_type": "markdown",
   "id": "d2cb3027-af05-4a04-bd3b-a56bc6d3b81a",
   "metadata": {},
   "source": [
    "## Extracting stock prices"
   ]
  },
  {
   "cell_type": "markdown",
   "id": "091a8c09-0e16-4a24-8db6-ead877566145",
   "metadata": {},
   "source": [
    "I'm going to use Yahoo finance API to extract stock prices history."
   ]
  },
  {
   "cell_type": "code",
   "execution_count": 7,
   "id": "f04696ab-4bc3-4a22-90b7-eb4c69e77853",
   "metadata": {},
   "outputs": [],
   "source": [
    "# Import library\n",
    "import yfinance as yf"
   ]
  },
  {
   "cell_type": "code",
   "execution_count": 8,
   "id": "369ad1fd-58c5-4797-8e2c-bba468c34bf1",
   "metadata": {},
   "outputs": [],
   "source": [
    "# Set ticker\n",
    "meta = yf.Ticker(\"META\")"
   ]
  },
  {
   "cell_type": "code",
   "execution_count": 9,
   "id": "59597e44-3786-4430-aa61-d6adbb08976b",
   "metadata": {},
   "outputs": [],
   "source": [
    "# Get history data\n",
    "hist = meta.history(period=\"max\")"
   ]
  },
  {
   "cell_type": "code",
   "execution_count": 10,
   "id": "197894ea-7e8f-4acc-923d-5a4749339e14",
   "metadata": {},
   "outputs": [
    {
     "data": {
      "text/html": [
       "<div>\n",
       "<style scoped>\n",
       "    .dataframe tbody tr th:only-of-type {\n",
       "        vertical-align: middle;\n",
       "    }\n",
       "\n",
       "    .dataframe tbody tr th {\n",
       "        vertical-align: top;\n",
       "    }\n",
       "\n",
       "    .dataframe thead th {\n",
       "        text-align: right;\n",
       "    }\n",
       "</style>\n",
       "<table border=\"1\" class=\"dataframe\">\n",
       "  <thead>\n",
       "    <tr style=\"text-align: right;\">\n",
       "      <th></th>\n",
       "      <th>Open</th>\n",
       "      <th>High</th>\n",
       "      <th>Low</th>\n",
       "      <th>Close</th>\n",
       "      <th>Volume</th>\n",
       "      <th>Dividends</th>\n",
       "      <th>Stock Splits</th>\n",
       "    </tr>\n",
       "    <tr>\n",
       "      <th>Date</th>\n",
       "      <th></th>\n",
       "      <th></th>\n",
       "      <th></th>\n",
       "      <th></th>\n",
       "      <th></th>\n",
       "      <th></th>\n",
       "      <th></th>\n",
       "    </tr>\n",
       "  </thead>\n",
       "  <tbody>\n",
       "    <tr>\n",
       "      <th>2012-05-18</th>\n",
       "      <td>42.049999</td>\n",
       "      <td>45.000000</td>\n",
       "      <td>38.000000</td>\n",
       "      <td>38.230000</td>\n",
       "      <td>573576400</td>\n",
       "      <td>0</td>\n",
       "      <td>0</td>\n",
       "    </tr>\n",
       "    <tr>\n",
       "      <th>2012-05-21</th>\n",
       "      <td>36.529999</td>\n",
       "      <td>36.660000</td>\n",
       "      <td>33.000000</td>\n",
       "      <td>34.029999</td>\n",
       "      <td>168192700</td>\n",
       "      <td>0</td>\n",
       "      <td>0</td>\n",
       "    </tr>\n",
       "    <tr>\n",
       "      <th>2012-05-22</th>\n",
       "      <td>32.610001</td>\n",
       "      <td>33.590000</td>\n",
       "      <td>30.940001</td>\n",
       "      <td>31.000000</td>\n",
       "      <td>101786600</td>\n",
       "      <td>0</td>\n",
       "      <td>0</td>\n",
       "    </tr>\n",
       "    <tr>\n",
       "      <th>2012-05-23</th>\n",
       "      <td>31.370001</td>\n",
       "      <td>32.500000</td>\n",
       "      <td>31.360001</td>\n",
       "      <td>32.000000</td>\n",
       "      <td>73600000</td>\n",
       "      <td>0</td>\n",
       "      <td>0</td>\n",
       "    </tr>\n",
       "    <tr>\n",
       "      <th>2012-05-24</th>\n",
       "      <td>32.950001</td>\n",
       "      <td>33.209999</td>\n",
       "      <td>31.770000</td>\n",
       "      <td>33.029999</td>\n",
       "      <td>50237200</td>\n",
       "      <td>0</td>\n",
       "      <td>0</td>\n",
       "    </tr>\n",
       "  </tbody>\n",
       "</table>\n",
       "</div>"
      ],
      "text/plain": [
       "                 Open       High        Low      Close     Volume  Dividends  \\\n",
       "Date                                                                           \n",
       "2012-05-18  42.049999  45.000000  38.000000  38.230000  573576400          0   \n",
       "2012-05-21  36.529999  36.660000  33.000000  34.029999  168192700          0   \n",
       "2012-05-22  32.610001  33.590000  30.940001  31.000000  101786600          0   \n",
       "2012-05-23  31.370001  32.500000  31.360001  32.000000   73600000          0   \n",
       "2012-05-24  32.950001  33.209999  31.770000  33.029999   50237200          0   \n",
       "\n",
       "            Stock Splits  \n",
       "Date                      \n",
       "2012-05-18             0  \n",
       "2012-05-21             0  \n",
       "2012-05-22             0  \n",
       "2012-05-23             0  \n",
       "2012-05-24             0  "
      ]
     },
     "execution_count": 10,
     "metadata": {},
     "output_type": "execute_result"
    }
   ],
   "source": [
    "hist.head()"
   ]
  },
  {
   "cell_type": "markdown",
   "id": "b0635041-5e20-4c07-b975-eb50d7b165cc",
   "metadata": {},
   "source": [
    "Let's visualise data"
   ]
  },
  {
   "cell_type": "code",
   "execution_count": 11,
   "id": "98c2bcca-dc70-4ee3-b9f8-daa624b8c15c",
   "metadata": {},
   "outputs": [
    {
     "data": {
      "text/plain": [
       "<AxesSubplot:xlabel='Date'>"
      ]
     },
     "execution_count": 11,
     "metadata": {},
     "output_type": "execute_result"
    },
    {
     "data": {
      "image/png": "[encoded data removed]",
      "text/plain": [
       "<Figure size 432x288 with 1 Axes>"
      ]
     },
     "metadata": {
      "needs_background": "light"
     },
     "output_type": "display_data"
    }
   ],
   "source": [
    "# Reset index\n",
    "hist.reset_index(inplace=True)\n",
    "# Plot the chart\n",
    "hist.plot(x=\"Date\", y=\"Close\")"
   ]
  },
  {
   "cell_type": "code",
   "execution_count": null,
   "id": "bc5a8d79-63a9-4758-956c-2d337d0bd0f5",
   "metadata": {},
   "outputs": [],
   "source": [
    "# revenue_date['quarter'] = pd.PeriodIndex(df.date, freq='Q')"
   ]
  },
  {
   "cell_type": "code",
   "execution_count": 152,
   "id": "c2e40425-8f8f-404b-be28-1f8d05dea57f",
   "metadata": {},
   "outputs": [],
   "source": [
    "from datetime import datetime\n",
    "from datetime import timedelta, date\n",
    "\n",
    "from datetime import timedelta\n",
    "\n",
    "timedelta_object = timedelta(days=1)"
   ]
  },
  {
   "cell_type": "code",
   "execution_count": 153,
   "id": "43bce574-1425-43b8-9dcf-62ecedfb7ea6",
   "metadata": {},
   "outputs": [
    {
     "data": {
      "text/plain": [
       "datetime.timedelta(days=2)"
      ]
     },
     "execution_count": 153,
     "metadata": {},
     "output_type": "execute_result"
    }
   ],
   "source": [
    "new_timedelta_object = timedelta_object + timedelta_object\n",
    "\n",
    "new_timedelta_object"
   ]
  },
  {
   "cell_type": "code",
   "execution_count": 229,
   "id": "0d7ecd49-060d-4b42-b5d6-3c42b6267746",
   "metadata": {},
   "outputs": [],
   "source": [
    "def my_func(price_df, revenue_df):\n",
    "    # Returns new dataframe after comparison of the dates. Then new column 'price' added to DF \n",
    "    from datetime import datetime\n",
    "    from datetime import timedelta, date\n",
    "    timedelta_object = timedelta(days=1)\n",
    "    # Loop trought Revenue dataframe. \n",
    "    for index, row in revenue_df.iterrows():\n",
    "        # Get date of the report \n",
    "        revenue_date = datetime.strptime(revenue_df.iloc[index, 0], \"%Y-%m-%d\")\n",
    "        day_before_revenue_date = revenue_date - timedelta_object\n",
    "        two_days_before_revenue_date = revenue_date - timedelta_object * 2\n",
    "        i=0\n",
    "        # Search for report date in second dataframe \n",
    "        for price_index, price_row in price_df.iterrows():\n",
    "            # Get date from second dataframe\n",
    "            price_date = price_df.iloc[price_index, 0]\n",
    "            \n",
    "            # If dates are equal then set price variable \n",
    "            if price_date == two_days_before_revenue_date:\n",
    "                price = price_df.iloc[price_index - 2, 4]\n",
    "                i=1\n",
    "            if price_date == day_before_revenue_date:\n",
    "                price = price_df.iloc[price_index - 1, 4]\n",
    "                i=2               \n",
    "            if price_date == revenue_date:\n",
    "                price = price_df.iloc[price_index, 4]\n",
    "                i=3\n",
    "            else:\n",
    "                 continue  \n",
    "        print(price, revenue_date, \"i=\", i)"
   ]
  },
  {
   "cell_type": "code",
   "execution_count": 230,
   "id": "4464fbe8-0a72-4e47-918f-6f6c743518f1",
   "metadata": {},
   "outputs": [
    {
     "name": "stdout",
     "output_type": "stream",
     "text": [
      "161.25 2022-06-30 00:00:00 i= 3\n",
      "222.36000061035156 2022-03-31 00:00:00 i= 3\n",
      "336.3500061035156 2021-12-31 00:00:00 i= 3\n",
      "339.3900146484375 2021-09-30 00:00:00 i= 3\n",
      "347.7099914550781 2021-06-30 00:00:00 i= 3\n",
      "294.5299987792969 2021-03-31 00:00:00 i= 3\n",
      "273.1600036621094 2020-12-31 00:00:00 i= 3\n",
      "261.8999938964844 2020-09-30 00:00:00 i= 3\n",
      "227.07000732421875 2020-06-30 00:00:00 i= 3\n",
      "166.8000030517578 2020-03-31 00:00:00 i= 3\n",
      "205.25 2019-12-31 00:00:00 i= 3\n",
      "178.0800018310547 2019-09-30 00:00:00 i= 3\n",
      "187.66000366210938 2019-06-30 00:00:00 i= 1\n",
      "165.8699951171875 2019-03-31 00:00:00 i= 1\n",
      "131.08999633789062 2018-12-31 00:00:00 i= 3\n",
      "166.9499969482422 2018-09-30 00:00:00 i= 1\n",
      "196.22999572753906 2018-06-30 00:00:00 i= 2\n",
      "152.22000122070312 2018-03-31 00:00:00 i= 1\n",
      "177.6199951171875 2017-12-31 00:00:00 i= 1\n",
      "168.72999572753906 2017-09-30 00:00:00 i= 2\n",
      "150.97999572753906 2017-06-30 00:00:00 i= 3\n",
      "142.0500030517578 2017-03-31 00:00:00 i= 3\n",
      "116.3499984741211 2016-12-31 00:00:00 i= 2\n",
      "128.27000427246094 2016-09-30 00:00:00 i= 3\n",
      "114.27999877929688 2016-06-30 00:00:00 i= 3\n",
      "114.0999984741211 2016-03-31 00:00:00 i= 3\n",
      "104.66000366210938 2015-12-31 00:00:00 i= 3\n",
      "89.9000015258789 2015-09-30 00:00:00 i= 3\n",
      "85.7699966430664 2015-06-30 00:00:00 i= 3\n",
      "82.22000122070312 2015-03-31 00:00:00 i= 3\n",
      "78.0199966430664 2014-12-31 00:00:00 i= 3\n",
      "79.04000091552734 2014-09-30 00:00:00 i= 3\n",
      "67.29000091552734 2014-06-30 00:00:00 i= 3\n",
      "60.2400016784668 2014-03-31 00:00:00 i= 3\n",
      "54.650001525878906 2013-12-31 00:00:00 i= 3\n",
      "50.22999954223633 2013-09-30 00:00:00 i= 3\n",
      "24.15999984741211 2013-06-30 00:00:00 i= 1\n",
      "24.15999984741211 2013-03-31 00:00:00 i= 0\n",
      "26.6200008392334 2012-12-31 00:00:00 i= 3\n",
      "20.6200008392334 2012-09-30 00:00:00 i= 1\n",
      "31.360000610351562 2012-06-30 00:00:00 i= 2\n",
      "31.360000610351562 2012-03-31 00:00:00 i= 0\n",
      "31.360000610351562 2011-12-31 00:00:00 i= 0\n",
      "31.360000610351562 2011-09-30 00:00:00 i= 0\n",
      "31.360000610351562 2011-06-30 00:00:00 i= 0\n",
      "31.360000610351562 2011-03-31 00:00:00 i= 0\n",
      "31.360000610351562 2010-12-31 00:00:00 i= 0\n",
      "31.360000610351562 2010-09-30 00:00:00 i= 0\n",
      "31.360000610351562 2010-06-30 00:00:00 i= 0\n",
      "31.360000610351562 2010-03-31 00:00:00 i= 0\n"
     ]
    }
   ],
   "source": [
    "my_func(hist, revenue_dataframe)"
   ]
  },
  {
   "cell_type": "code",
   "execution_count": null,
   "id": "fa036b7a-5d84-446d-86f5-30f34727d56e",
   "metadata": {},
   "outputs": [],
   "source": [
    "hist.iloc[0, 0]"
   ]
  },
  {
   "cell_type": "code",
   "execution_count": null,
   "id": "344dde9d-311a-4512-be6a-0d42f18c0eae",
   "metadata": {},
   "outputs": [],
   "source": []
  }
 ],
 "metadata": {
  "kernelspec": {
   "display_name": "Python 3 (ipykernel)",
   "language": "python",
   "name": "python3"
  },
  "language_info": {
   "codemirror_mode": {
    "name": "ipython",
    "version": 3
   },
   "file_extension": ".py",
   "mimetype": "text/x-python",
   "name": "python",
   "nbconvert_exporter": "python",
   "pygments_lexer": "ipython3",
   "version": "3.9.7"
  }
 },
 "nbformat": 4,
 "nbformat_minor": 5
}
