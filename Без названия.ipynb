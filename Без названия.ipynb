{
 "cells": [
  {
   "cell_type": "markdown",
   "id": "24b74e01-c728-4884-9628-92095c57719a",
   "metadata": {},
   "source": [
    "# Meta Inc. Stock price predictions"
   ]
  },
  {
   "cell_type": "markdown",
   "id": "c50882a2-78d7-4ff6-bad7-d526af2a9a6e",
   "metadata": {},
   "source": [
    "## Idea"
   ]
  },
  {
   "cell_type": "markdown",
   "id": "37f2839c-e71c-4616-8cc5-22847dbe8a85",
   "metadata": {},
   "source": [
    "Let's take a look to stock prices and market capitalisation as a result of how market reacts to financial statistics of the company. \n",
    "First of all we need to extract financial statistics from the web. After that we need to determine affection of this statistics to stock price and discover correlation.\n",
    "Final step will be building model to predict market capitalisation for the next quorter."
   ]
  },
  {
   "cell_type": "code",
   "execution_count": null,
   "id": "0f6bc588-3f97-4187-b042-88fa8501f0c6",
   "metadata": {},
   "outputs": [],
   "source": []
  }
 ],
 "metadata": {
  "kernelspec": {
   "display_name": "Python 3 (ipykernel)",
   "language": "python",
   "name": "python3"
  },
  "language_info": {
   "codemirror_mode": {
    "name": "ipython",
    "version": 3
   },
   "file_extension": ".py",
   "mimetype": "text/x-python",
   "name": "python",
   "nbconvert_exporter": "python",
   "pygments_lexer": "ipython3",
   "version": "3.9.7"
  }
 },
 "nbformat": 4,
 "nbformat_minor": 5
}
