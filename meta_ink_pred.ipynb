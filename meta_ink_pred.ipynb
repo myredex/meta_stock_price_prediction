{
 "cells": [
  {
   "cell_type": "markdown",
   "id": "24b74e01-c728-4884-9628-92095c57719a",
   "metadata": {},
   "source": [
    "# Meta Inc. Stock price predictions"
   ]
  },
  {
   "cell_type": "markdown",
   "id": "37f2839c-e71c-4616-8cc5-22847dbe8a85",
   "metadata": {},
   "source": [
    "Let's take a look to stock prices and market capitalisation as a result of how market reacts to financial statistics of the company. \n",
    "First of all we need to extract financial statistics from the web. After that we need to determine affection of this statistics to stock price and discover correlation.\n",
    "Final step will be building model to predict market capitalisation for the next quorter."
   ]
  },
  {
   "cell_type": "markdown",
   "id": "efcba19b-d5b5-4705-9854-f3c67a8edb4e",
   "metadata": {},
   "source": [
    "Import libraries"
   ]
  },
  {
   "cell_type": "code",
   "execution_count": 1,
   "id": "e2f9f7a1-e553-46f9-a68b-d42569eff49d",
   "metadata": {},
   "outputs": [],
   "source": [
    "# Install if required\n",
    "#!mamba install bs4==4.10.0 -y\n",
    "#!mamba install html5lib==1.1 -y"
   ]
  },
  {
   "cell_type": "code",
   "execution_count": 2,
   "id": "4d2cd1f6-ef02-4372-b238-ea0166ec327a",
   "metadata": {},
   "outputs": [],
   "source": [
    "#Import libraries for webscrapping\n",
    "import pandas as pd\n",
    "import requests\n",
    "from bs4 import BeautifulSoup"
   ]
  },
  {
   "cell_type": "markdown",
   "id": "96c27ac5-8fd4-45f5-8eda-dec91aa9719e",
   "metadata": {},
   "source": [
    "Let's create function that will help us to extract data from macrotrends.net website. "
   ]
  },
  {
   "cell_type": "code",
   "execution_count": 3,
   "id": "0b719136-784a-4a04-ab18-e32919edd30b",
   "metadata": {},
   "outputs": [],
   "source": [
    "def get_dataframe_from_macrotrends_net(url, list_of_columns, table_number=0, column_index=1):\n",
    "    # This function helps to get information from Macrotrends.net using simple navigation\n",
    "    # You only need to enter url, list of parced columns in the table and \n",
    "    # number of the table (first, second ets in int format)\n",
    "\n",
    "    html_data = requests.get(url).text   #get data from the webpage\n",
    "    souped_html = BeautifulSoup(html_data, 'html5lib') #Use beautifulsoup\n",
    "\n",
    "    # Find the second table with Quarterly Revenue /or use 0 for first table\n",
    "    parced_table = souped_html.find_all('table')[table_number]   \n",
    "\n",
    "    #Create blank dataframe \n",
    "    dataframe = pd.DataFrame(columns=list_of_columns) \n",
    " \n",
    "    # Find all tr tags and put data into Dataframe\n",
    "    non_float_values = 0\n",
    "    for row in parced_table.find(\"tbody\").find_all(\"tr\"):  \n",
    "\n",
    "        col = row.find_all(\"td\") \n",
    "        date = col[0].text \n",
    "        col1 = col[column_index].text\n",
    "        col1 = col1.replace('$', '').replace(',', '')\n",
    "\n",
    "        if col1.isdigit():\n",
    "            col1 = float(col1)\n",
    "            dataframe = dataframe.append({list_of_columns[0]:date, list_of_columns[1]:col1}, ignore_index=True)\n",
    "        else: \n",
    "            dataframe = dataframe.append({list_of_columns[0]:date, list_of_columns[1]:col1}, ignore_index=True)\n",
    "            non_float_values = non_float_values + 1\n",
    "    \n",
    "    print(\"Non float values:\", non_float_values) #How many rows were missed\n",
    "    return dataframe"
   ]
  },
  {
   "cell_type": "markdown",
   "id": "79856d39-03a8-4057-990b-ca39cc355983",
   "metadata": {},
   "source": [
    "Let's collect data: Revenue, Gross profit etc."
   ]
  },
  {
   "cell_type": "code",
   "execution_count": 4,
   "id": "356ce6d6-580d-4bfe-b1de-52cf2c9e85c6",
   "metadata": {},
   "outputs": [
    {
     "name": "stdout",
     "output_type": "stream",
     "text": [
      "Non float values: 1\n",
      "Non float values: 1\n",
      "Non float values: 51\n",
      "Non float values: 2\n",
      "Non float values: 2\n",
      "Non float values: 39\n",
      "Non float values: 3\n"
     ]
    },
    {
     "data": {
      "text/html": [
       "<div>\n",
       "<style scoped>\n",
       "    .dataframe tbody tr th:only-of-type {\n",
       "        vertical-align: middle;\n",
       "    }\n",
       "\n",
       "    .dataframe tbody tr th {\n",
       "        vertical-align: top;\n",
       "    }\n",
       "\n",
       "    .dataframe thead th {\n",
       "        text-align: right;\n",
       "    }\n",
       "</style>\n",
       "<table border=\"1\" class=\"dataframe\">\n",
       "  <thead>\n",
       "    <tr style=\"text-align: right;\">\n",
       "      <th></th>\n",
       "      <th>Date</th>\n",
       "      <th>Revenue</th>\n",
       "      <th>Gross profit</th>\n",
       "      <th>EPS</th>\n",
       "      <th>EBITDA</th>\n",
       "      <th>Operating income</th>\n",
       "      <th>PE ratio</th>\n",
       "      <th>Net income</th>\n",
       "    </tr>\n",
       "  </thead>\n",
       "  <tbody>\n",
       "    <tr>\n",
       "      <th>0</th>\n",
       "      <td>2022-06-30</td>\n",
       "      <td>28822</td>\n",
       "      <td>23630</td>\n",
       "      <td>2.46</td>\n",
       "      <td>10337</td>\n",
       "      <td>8358</td>\n",
       "      <td>13.36</td>\n",
       "      <td>6687</td>\n",
       "    </tr>\n",
       "    <tr>\n",
       "      <th>1</th>\n",
       "      <td>2022-03-31</td>\n",
       "      <td>27908</td>\n",
       "      <td>21903</td>\n",
       "      <td>2.72</td>\n",
       "      <td>10680</td>\n",
       "      <td>8524</td>\n",
       "      <td>16.82</td>\n",
       "      <td>7465</td>\n",
       "    </tr>\n",
       "    <tr>\n",
       "      <th>2</th>\n",
       "      <td>2021-12-31</td>\n",
       "      <td>33671</td>\n",
       "      <td>27323</td>\n",
       "      <td>3.64</td>\n",
       "      <td>14599</td>\n",
       "      <td>12585</td>\n",
       "      <td>24.37</td>\n",
       "      <td>10285</td>\n",
       "    </tr>\n",
       "    <tr>\n",
       "      <th>3</th>\n",
       "      <td>2021-09-30</td>\n",
       "      <td>29010</td>\n",
       "      <td>23239</td>\n",
       "      <td>3.22</td>\n",
       "      <td>12418</td>\n",
       "      <td>10423</td>\n",
       "      <td>24.22</td>\n",
       "      <td>9194</td>\n",
       "    </tr>\n",
       "    <tr>\n",
       "      <th>4</th>\n",
       "      <td>2021-06-30</td>\n",
       "      <td>29077</td>\n",
       "      <td>23678</td>\n",
       "      <td>3.61</td>\n",
       "      <td>14353</td>\n",
       "      <td>12367</td>\n",
       "      <td>25.76</td>\n",
       "      <td>10394</td>\n",
       "    </tr>\n",
       "  </tbody>\n",
       "</table>\n",
       "</div>"
      ],
      "text/plain": [
       "         Date Revenue Gross profit   EPS EBITDA Operating income PE ratio  \\\n",
       "0  2022-06-30   28822        23630  2.46  10337             8358    13.36   \n",
       "1  2022-03-31   27908        21903  2.72  10680             8524    16.82   \n",
       "2  2021-12-31   33671        27323  3.64  14599            12585    24.37   \n",
       "3  2021-09-30   29010        23239  3.22  12418            10423    24.22   \n",
       "4  2021-06-30   29077        23678  3.61  14353            12367    25.76   \n",
       "\n",
       "  Net income  \n",
       "0       6687  \n",
       "1       7465  \n",
       "2      10285  \n",
       "3       9194  \n",
       "4      10394  "
      ]
     },
     "execution_count": 4,
     "metadata": {},
     "output_type": "execute_result"
    }
   ],
   "source": [
    "base_url = \"https://www.macrotrends.net/stocks/charts/META/meta-platforms\"\n",
    "# Set list of tupples to parce\n",
    "url_list = [(base_url + \"/revenue\", [\"Date\", \"Revenue\"], 1, 1),\n",
    "            (base_url + \"/gross-profit\", [\"Date\", \"Gross profit\"], 1, 1),\n",
    "            (base_url + \"/eps-earnings-per-share-diluted\", [\"Date\", \"EPS\"], 1, 1),\n",
    "            (base_url + \"/ebitda\", [\"Date\", \"EBITDA\"], 1, 1),\n",
    "            (base_url + \"/operating-income\", [\"Date\", \"Operating income\"], 1, 1),\n",
    "            (base_url + \"/pe-ratio\", [\"Date\", \"PE ratio\"], 0, 3),\n",
    "            (base_url + \"/net-income\", [\"Date\", \"Net income\"], 1, 1)\n",
    "            ]\n",
    "\n",
    "i=0\n",
    "# Get dfs and join them to one dataframe\n",
    "for url, list_of_cols, table_num, column_index in url_list: \n",
    "    #Get dataframe\n",
    "    dataframe = get_dataframe_from_macrotrends_net(url, list_of_cols, table_num, column_index)\n",
    "    \n",
    "    # During first iterration resut df equals to dataframe\n",
    "    if i == 0:\n",
    "        result_df = dataframe\n",
    "        \n",
    "    # Second and other iterration we merge result df and dataframe we got with function\n",
    "    else:\n",
    "        result_df = result_df.merge(dataframe, how='left')\n",
    "        \n",
    "    i=i+1\n",
    "    \n",
    "revenue_df = result_df\n",
    "revenue_df.head()"
   ]
  },
  {
   "cell_type": "code",
   "execution_count": 5,
   "id": "70d96892-e141-4718-a45b-d81135b47f22",
   "metadata": {},
   "outputs": [
    {
     "data": {
      "text/plain": [
       "(51, 8)"
      ]
     },
     "execution_count": 5,
     "metadata": {},
     "output_type": "execute_result"
    }
   ],
   "source": [
    "revenue_df.shape"
   ]
  },
  {
   "cell_type": "code",
   "execution_count": 6,
   "id": "1ab7497e-6f95-4a4a-beb4-b8026a42eca2",
   "metadata": {},
   "outputs": [
    {
     "data": {
      "text/plain": [
       "Date                object\n",
       "Revenue             object\n",
       "Gross profit        object\n",
       "EPS                 object\n",
       "EBITDA              object\n",
       "Operating income    object\n",
       "PE ratio            object\n",
       "Net income          object\n",
       "dtype: object"
      ]
     },
     "execution_count": 6,
     "metadata": {},
     "output_type": "execute_result"
    }
   ],
   "source": [
    "revenue_df.dtypes"
   ]
  },
  {
   "cell_type": "markdown",
   "id": "daddf9fd-3aba-411e-af2a-4cb9fb25c95f",
   "metadata": {},
   "source": [
    "Now when revenue data extracted we need stocks price data."
   ]
  },
  {
   "cell_type": "markdown",
   "id": "d2cb3027-af05-4a04-bd3b-a56bc6d3b81a",
   "metadata": {},
   "source": [
    "## Extracting stock prices"
   ]
  },
  {
   "cell_type": "markdown",
   "id": "091a8c09-0e16-4a24-8db6-ead877566145",
   "metadata": {},
   "source": [
    "I'm going to use Yahoo finance API to extract stock prices history."
   ]
  },
  {
   "cell_type": "code",
   "execution_count": 7,
   "id": "f04696ab-4bc3-4a22-90b7-eb4c69e77853",
   "metadata": {},
   "outputs": [
    {
     "data": {
      "text/html": [
       "<div>\n",
       "<style scoped>\n",
       "    .dataframe tbody tr th:only-of-type {\n",
       "        vertical-align: middle;\n",
       "    }\n",
       "\n",
       "    .dataframe tbody tr th {\n",
       "        vertical-align: top;\n",
       "    }\n",
       "\n",
       "    .dataframe thead th {\n",
       "        text-align: right;\n",
       "    }\n",
       "</style>\n",
       "<table border=\"1\" class=\"dataframe\">\n",
       "  <thead>\n",
       "    <tr style=\"text-align: right;\">\n",
       "      <th></th>\n",
       "      <th>Open</th>\n",
       "      <th>High</th>\n",
       "      <th>Low</th>\n",
       "      <th>Close</th>\n",
       "      <th>Volume</th>\n",
       "      <th>Dividends</th>\n",
       "      <th>Stock Splits</th>\n",
       "    </tr>\n",
       "    <tr>\n",
       "      <th>Date</th>\n",
       "      <th></th>\n",
       "      <th></th>\n",
       "      <th></th>\n",
       "      <th></th>\n",
       "      <th></th>\n",
       "      <th></th>\n",
       "      <th></th>\n",
       "    </tr>\n",
       "  </thead>\n",
       "  <tbody>\n",
       "    <tr>\n",
       "      <th>2012-05-18</th>\n",
       "      <td>42.049999</td>\n",
       "      <td>45.000000</td>\n",
       "      <td>38.000000</td>\n",
       "      <td>38.230000</td>\n",
       "      <td>573576400</td>\n",
       "      <td>0</td>\n",
       "      <td>0</td>\n",
       "    </tr>\n",
       "    <tr>\n",
       "      <th>2012-05-21</th>\n",
       "      <td>36.529999</td>\n",
       "      <td>36.660000</td>\n",
       "      <td>33.000000</td>\n",
       "      <td>34.029999</td>\n",
       "      <td>168192700</td>\n",
       "      <td>0</td>\n",
       "      <td>0</td>\n",
       "    </tr>\n",
       "    <tr>\n",
       "      <th>2012-05-22</th>\n",
       "      <td>32.610001</td>\n",
       "      <td>33.590000</td>\n",
       "      <td>30.940001</td>\n",
       "      <td>31.000000</td>\n",
       "      <td>101786600</td>\n",
       "      <td>0</td>\n",
       "      <td>0</td>\n",
       "    </tr>\n",
       "    <tr>\n",
       "      <th>2012-05-23</th>\n",
       "      <td>31.370001</td>\n",
       "      <td>32.500000</td>\n",
       "      <td>31.360001</td>\n",
       "      <td>32.000000</td>\n",
       "      <td>73600000</td>\n",
       "      <td>0</td>\n",
       "      <td>0</td>\n",
       "    </tr>\n",
       "    <tr>\n",
       "      <th>2012-05-24</th>\n",
       "      <td>32.950001</td>\n",
       "      <td>33.209999</td>\n",
       "      <td>31.770000</td>\n",
       "      <td>33.029999</td>\n",
       "      <td>50237200</td>\n",
       "      <td>0</td>\n",
       "      <td>0</td>\n",
       "    </tr>\n",
       "  </tbody>\n",
       "</table>\n",
       "</div>"
      ],
      "text/plain": [
       "                 Open       High        Low      Close     Volume  Dividends  \\\n",
       "Date                                                                           \n",
       "2012-05-18  42.049999  45.000000  38.000000  38.230000  573576400          0   \n",
       "2012-05-21  36.529999  36.660000  33.000000  34.029999  168192700          0   \n",
       "2012-05-22  32.610001  33.590000  30.940001  31.000000  101786600          0   \n",
       "2012-05-23  31.370001  32.500000  31.360001  32.000000   73600000          0   \n",
       "2012-05-24  32.950001  33.209999  31.770000  33.029999   50237200          0   \n",
       "\n",
       "            Stock Splits  \n",
       "Date                      \n",
       "2012-05-18             0  \n",
       "2012-05-21             0  \n",
       "2012-05-22             0  \n",
       "2012-05-23             0  \n",
       "2012-05-24             0  "
      ]
     },
     "execution_count": 7,
     "metadata": {},
     "output_type": "execute_result"
    }
   ],
   "source": [
    "# Import library\n",
    "import yfinance as yf\n",
    "\n",
    "# Set ticker\n",
    "meta = yf.Ticker(\"META\")\n",
    "\n",
    "# Get history data\n",
    "hist = meta.history(period=\"max\")\n",
    "\n",
    "hist.head()"
   ]
  },
  {
   "cell_type": "markdown",
   "id": "b0635041-5e20-4c07-b975-eb50d7b165cc",
   "metadata": {},
   "source": [
    "Let's visualise data"
   ]
  },
  {
   "cell_type": "code",
   "execution_count": 8,
   "id": "98c2bcca-dc70-4ee3-b9f8-daa624b8c15c",
   "metadata": {},
   "outputs": [
    {
     "data": {
      "text/plain": [
       "<AxesSubplot:xlabel='Date'>"
      ]
     },
     "execution_count": 8,
     "metadata": {},
     "output_type": "execute_result"
    },
    {
     "data": {
      "image/png": "[encoded data removed]",
      "text/plain": [
       "<Figure size 432x288 with 1 Axes>"
      ]
     },
     "metadata": {
      "needs_background": "light"
     },
     "output_type": "display_data"
    }
   ],
   "source": [
    "# Reset index\n",
    "hist.reset_index(inplace=True)\n",
    "# Plot the chart\n",
    "hist.plot(x=\"Date\", y=\"Close\")"
   ]
  },
  {
   "cell_type": "markdown",
   "id": "2916c4c7-f48c-4357-aaf9-37805de5f3c5",
   "metadata": {},
   "source": [
    "Now we need to join two dataframes. For this purposes I'll use this function"
   ]
  },
  {
   "cell_type": "code",
   "execution_count": 9,
   "id": "0d7ecd49-060d-4b42-b5d6-3c42b6267746",
   "metadata": {},
   "outputs": [],
   "source": [
    "def join_price_and_revenue_dfs(price_df, revenue_df, shift=0):\n",
    "    # Returns new dataframe after comparison of the dates. \n",
    "\n",
    "    # Import required libraries\n",
    "    from datetime import datetime\n",
    "    from datetime import timedelta\n",
    "    \n",
    "    # Set last day var to determine since what day stock prices is availiable\n",
    "    last_history_date = hist.iloc[0,0]\n",
    "    # Set time delta\n",
    "    timedelta_object = timedelta(days=1)\n",
    "    # Create blank list to collect prices from second df\n",
    "    price_list =[]\n",
    "    \n",
    "    # Loop trought Revenue dataframe. \n",
    "    d1 = 0\n",
    "    d2 = 0\n",
    "    d3 = 0\n",
    "    d4 = 0\n",
    "        \n",
    "    for index, row in revenue_df.iterrows():\n",
    "        \n",
    "        # Get date of the report. Then to exclude affection of the reports to the data\n",
    "        # I'll use dates two days, three days and for days before the report.\n",
    "        revenue_date = datetime.strptime(revenue_df.iloc[index, 0], \"%Y-%m-%d\")\n",
    "        two_days_before_revenue_date = revenue_date - timedelta_object * 2\n",
    "        three_days_before_revenue_date = revenue_date - timedelta_object * 3\n",
    "        four_days_before_revenue_date = revenue_date - timedelta_object * 4\n",
    "        \n",
    "        # Check for revenue report days before IPO\n",
    "        #if revenue_date < last_history_date:\n",
    "        #    break\n",
    "            \n",
    "        # Search for report date in second dataframe the result returns in dataframe format\n",
    "        price = 0\n",
    "        df_with_price_4_days = price_df[price_df['Date']==four_days_before_revenue_date]\n",
    "        df_with_price_3_days = price_df[price_df['Date']==two_days_before_revenue_date]\n",
    "        df_with_price_2_days = price_df[price_df['Date']==two_days_before_revenue_date]\n",
    "        df_with_price_0_days = price_df[price_df['Date']==revenue_date]\n",
    "        \n",
    "        # Check if dataframe is epty or not if not change price value\n",
    "        # Priority to date 4 before report\n",
    "        report_day = 0\n",
    "        \n",
    "        if len(df_with_price_0_days) > 0:\n",
    "            price = df_with_price_0_days.iloc[0,4]\n",
    "            report_day = 1\n",
    "            \n",
    "        if len(df_with_price_2_days) > 0:\n",
    "            price = df_with_price_2_days.iloc[0,4]  \n",
    "            report_day = 2\n",
    "            \n",
    "        if len(df_with_price_3_days) > 0:\n",
    "            price = df_with_price_3_days.iloc[0,4] \n",
    "            report_day = 3\n",
    "            \n",
    "        if len(df_with_price_4_days) > 0:\n",
    "            price = df_with_price_4_days.iloc[0,4]\n",
    "            report_day = 4\n",
    "        \n",
    "\n",
    "        \n",
    "        if report_day == 1:\n",
    "            d1 = d1+1\n",
    "        elif report_day == 2:\n",
    "            d2 = d2+1\n",
    "        elif report_day == 3:\n",
    "            d3 = d3+1\n",
    "        elif report_day == 4:\n",
    "            d4 = d4+1\n",
    "            \n",
    "        \n",
    "  #      Second variant with for loop (works much slower)      \n",
    "  #      price = price_df[price_df['Date']==price_df.price_df[0,0]]\n",
    "  #      if four_days_before_revenue_date\n",
    "        \n",
    "  #      for price_index, price_row in price_df.iterrows():\n",
    "            # Get date from second dataframe\n",
    "  #          price_date = price_df.iloc[price_index, 0]\n",
    "            \n",
    "  #          # If date(four days before report) found in prices DF then set 'price' var etc... \n",
    "  #          if price_date == four_days_before_revenue_date:\n",
    "  #              price = price_df.iloc[price_index - 2, 4]\n",
    "  #              i=1\n",
    "  #          if price_date == three_days_before_revenue_date:\n",
    "  #              price = price_df.iloc[price_index - 1, 4]\n",
    "  #              i=2               \n",
    "  #          if price_date == two_days_before_revenue_date:\n",
    "  #              price = price_df.iloc[price_index, 4]\n",
    "  #              i=3\n",
    "  #          else:\n",
    "  #              continue  \n",
    "    \n",
    "    \n",
    "        # Built result dataframe    \n",
    "        price_list.append(price)\n",
    "    revenue_df['Price'] = price_list\n",
    "    print(\"4 days enries: {}\\n3 days enries: {}\\n2 days enries: {}\\n0 days enries: {}\".format(d4, d3, d2, d1))\n",
    "    print(\"Dataframe shape\", revenue_df.shape)\n",
    "    return revenue_df"
   ]
  },
  {
   "cell_type": "markdown",
   "id": "f9e9e4a1-b8e6-405f-8ccc-3af88cd4f3b0",
   "metadata": {},
   "source": [
    "Join dataframes using function"
   ]
  },
  {
   "cell_type": "code",
   "execution_count": 10,
   "id": "4464fbe8-0a72-4e47-918f-6f6c743518f1",
   "metadata": {},
   "outputs": [
    {
     "name": "stdout",
     "output_type": "stream",
     "text": [
      "4 days enries: 29\n",
      "3 days enries: 12\n",
      "2 days enries: 0\n",
      "0 days enries: 0\n",
      "Dataframe shape (51, 9)\n"
     ]
    },
    {
     "data": {
      "text/html": [
       "<div>\n",
       "<style scoped>\n",
       "    .dataframe tbody tr th:only-of-type {\n",
       "        vertical-align: middle;\n",
       "    }\n",
       "\n",
       "    .dataframe tbody tr th {\n",
       "        vertical-align: top;\n",
       "    }\n",
       "\n",
       "    .dataframe thead th {\n",
       "        text-align: right;\n",
       "    }\n",
       "</style>\n",
       "<table border=\"1\" class=\"dataframe\">\n",
       "  <thead>\n",
       "    <tr style=\"text-align: right;\">\n",
       "      <th></th>\n",
       "      <th>Date</th>\n",
       "      <th>Revenue</th>\n",
       "      <th>Gross profit</th>\n",
       "      <th>EPS</th>\n",
       "      <th>EBITDA</th>\n",
       "      <th>Operating income</th>\n",
       "      <th>PE ratio</th>\n",
       "      <th>Net income</th>\n",
       "      <th>Price</th>\n",
       "    </tr>\n",
       "  </thead>\n",
       "  <tbody>\n",
       "    <tr>\n",
       "      <th>0</th>\n",
       "      <td>2022-06-30</td>\n",
       "      <td>28822</td>\n",
       "      <td>23630</td>\n",
       "      <td>2.46</td>\n",
       "      <td>10337</td>\n",
       "      <td>8358</td>\n",
       "      <td>13.36</td>\n",
       "      <td>6687</td>\n",
       "      <td>160.679993</td>\n",
       "    </tr>\n",
       "    <tr>\n",
       "      <th>1</th>\n",
       "      <td>2022-03-31</td>\n",
       "      <td>27908</td>\n",
       "      <td>21903</td>\n",
       "      <td>2.72</td>\n",
       "      <td>10680</td>\n",
       "      <td>8524</td>\n",
       "      <td>16.82</td>\n",
       "      <td>7465</td>\n",
       "      <td>229.860001</td>\n",
       "    </tr>\n",
       "    <tr>\n",
       "      <th>2</th>\n",
       "      <td>2021-12-31</td>\n",
       "      <td>33671</td>\n",
       "      <td>27323</td>\n",
       "      <td>3.64</td>\n",
       "      <td>14599</td>\n",
       "      <td>12585</td>\n",
       "      <td>24.37</td>\n",
       "      <td>10285</td>\n",
       "      <td>346.179993</td>\n",
       "    </tr>\n",
       "    <tr>\n",
       "      <th>3</th>\n",
       "      <td>2021-09-30</td>\n",
       "      <td>29010</td>\n",
       "      <td>23239</td>\n",
       "      <td>3.22</td>\n",
       "      <td>12418</td>\n",
       "      <td>10423</td>\n",
       "      <td>24.22</td>\n",
       "      <td>9194</td>\n",
       "      <td>340.649994</td>\n",
       "    </tr>\n",
       "    <tr>\n",
       "      <th>4</th>\n",
       "      <td>2021-06-30</td>\n",
       "      <td>29077</td>\n",
       "      <td>23678</td>\n",
       "      <td>3.61</td>\n",
       "      <td>14353</td>\n",
       "      <td>12367</td>\n",
       "      <td>25.76</td>\n",
       "      <td>10394</td>\n",
       "      <td>355.640015</td>\n",
       "    </tr>\n",
       "  </tbody>\n",
       "</table>\n",
       "</div>"
      ],
      "text/plain": [
       "         Date Revenue Gross profit   EPS EBITDA Operating income PE ratio  \\\n",
       "0  2022-06-30   28822        23630  2.46  10337             8358    13.36   \n",
       "1  2022-03-31   27908        21903  2.72  10680             8524    16.82   \n",
       "2  2021-12-31   33671        27323  3.64  14599            12585    24.37   \n",
       "3  2021-09-30   29010        23239  3.22  12418            10423    24.22   \n",
       "4  2021-06-30   29077        23678  3.61  14353            12367    25.76   \n",
       "\n",
       "  Net income       Price  \n",
       "0       6687  160.679993  \n",
       "1       7465  229.860001  \n",
       "2      10285  346.179993  \n",
       "3       9194  340.649994  \n",
       "4      10394  355.640015  "
      ]
     },
     "execution_count": 10,
     "metadata": {},
     "output_type": "execute_result"
    }
   ],
   "source": [
    "price_rev_df = join_price_and_revenue_dfs(hist, revenue_df)\n",
    "price_rev_df.head()"
   ]
  },
  {
   "cell_type": "markdown",
   "id": "f1a78395-8be0-4763-a55d-ca1e0f1b63da",
   "metadata": {},
   "source": [
    "## Data preparation and exploration"
   ]
  },
  {
   "cell_type": "markdown",
   "id": "5bb2b990-8ac4-4665-a5d1-582c7399023a",
   "metadata": {},
   "source": [
    "First we need to cut off rows before the IPO date where 'Price' value is 0. "
   ]
  },
  {
   "cell_type": "code",
   "execution_count": 11,
   "id": "53edf1c0-9d0e-443e-99f7-279e70fc932c",
   "metadata": {},
   "outputs": [
    {
     "data": {
      "text/html": [
       "<div>\n",
       "<style scoped>\n",
       "    .dataframe tbody tr th:only-of-type {\n",
       "        vertical-align: middle;\n",
       "    }\n",
       "\n",
       "    .dataframe tbody tr th {\n",
       "        vertical-align: top;\n",
       "    }\n",
       "\n",
       "    .dataframe thead th {\n",
       "        text-align: right;\n",
       "    }\n",
       "</style>\n",
       "<table border=\"1\" class=\"dataframe\">\n",
       "  <thead>\n",
       "    <tr style=\"text-align: right;\">\n",
       "      <th></th>\n",
       "      <th>Date</th>\n",
       "      <th>Revenue</th>\n",
       "      <th>Gross profit</th>\n",
       "      <th>EPS</th>\n",
       "      <th>EBITDA</th>\n",
       "      <th>Operating income</th>\n",
       "      <th>PE ratio</th>\n",
       "      <th>Net income</th>\n",
       "      <th>Price</th>\n",
       "    </tr>\n",
       "  </thead>\n",
       "  <tbody>\n",
       "    <tr>\n",
       "      <th>36</th>\n",
       "      <td>2013-06-30</td>\n",
       "      <td>1813</td>\n",
       "      <td>1348</td>\n",
       "      <td>0.13</td>\n",
       "      <td>792</td>\n",
       "      <td>562</td>\n",
       "      <td>108.17</td>\n",
       "      <td>331</td>\n",
       "      <td>24.160000</td>\n",
       "    </tr>\n",
       "    <tr>\n",
       "      <th>37</th>\n",
       "      <td>2013-03-31</td>\n",
       "      <td>1458</td>\n",
       "      <td>1045</td>\n",
       "      <td>0.09</td>\n",
       "      <td>606</td>\n",
       "      <td>373</td>\n",
       "      <td>1279.00</td>\n",
       "      <td>217</td>\n",
       "      <td>26.090000</td>\n",
       "    </tr>\n",
       "    <tr>\n",
       "      <th>38</th>\n",
       "      <td>2012-12-31</td>\n",
       "      <td>1585</td>\n",
       "      <td>1187</td>\n",
       "      <td>0.03</td>\n",
       "      <td>747</td>\n",
       "      <td>523</td>\n",
       "      <td>NaN</td>\n",
       "      <td>64</td>\n",
       "      <td>26.049999</td>\n",
       "    </tr>\n",
       "    <tr>\n",
       "      <th>39</th>\n",
       "      <td>2012-09-30</td>\n",
       "      <td>1262</td>\n",
       "      <td>940</td>\n",
       "      <td>-0.02</td>\n",
       "      <td>553</td>\n",
       "      <td>377</td>\n",
       "      <td>NaN</td>\n",
       "      <td>-59</td>\n",
       "      <td>20.620001</td>\n",
       "    </tr>\n",
       "    <tr>\n",
       "      <th>40</th>\n",
       "      <td>2012-06-30</td>\n",
       "      <td>1184</td>\n",
       "      <td>817</td>\n",
       "      <td>-0.08</td>\n",
       "      <td>-604</td>\n",
       "      <td>-743</td>\n",
       "      <td>NaN</td>\n",
       "      <td>-157</td>\n",
       "      <td>33.099998</td>\n",
       "    </tr>\n",
       "  </tbody>\n",
       "</table>\n",
       "</div>"
      ],
      "text/plain": [
       "          Date Revenue Gross profit    EPS EBITDA Operating income PE ratio  \\\n",
       "36  2013-06-30    1813         1348   0.13    792              562   108.17   \n",
       "37  2013-03-31    1458         1045   0.09    606              373  1279.00   \n",
       "38  2012-12-31    1585         1187   0.03    747              523      NaN   \n",
       "39  2012-09-30    1262          940  -0.02    553              377      NaN   \n",
       "40  2012-06-30    1184          817  -0.08   -604             -743      NaN   \n",
       "\n",
       "   Net income      Price  \n",
       "36        331  24.160000  \n",
       "37        217  26.090000  \n",
       "38         64  26.049999  \n",
       "39        -59  20.620001  \n",
       "40       -157  33.099998  "
      ]
     },
     "execution_count": 11,
     "metadata": {},
     "output_type": "execute_result"
    }
   ],
   "source": [
    "#Filter df using values of Price column\n",
    "clean_price_rev_df = price_rev_df[price_rev_df['Price']>0]\n",
    "clean_price_rev_df.tail()"
   ]
  },
  {
   "cell_type": "markdown",
   "id": "04d4fe12-6b1d-49a1-89b7-e978477a44d2",
   "metadata": {},
   "source": [
    "Then we need check for data types and set it to proper. "
   ]
  },
  {
   "cell_type": "code",
   "execution_count": 12,
   "id": "36b92315-44cd-40ae-b14a-dbe215e2c52a",
   "metadata": {},
   "outputs": [
    {
     "data": {
      "text/plain": [
       "Date                 object\n",
       "Revenue              object\n",
       "Gross profit         object\n",
       "EPS                  object\n",
       "EBITDA               object\n",
       "Operating income     object\n",
       "PE ratio             object\n",
       "Net income           object\n",
       "Price               float64\n",
       "dtype: object"
      ]
     },
     "execution_count": 12,
     "metadata": {},
     "output_type": "execute_result"
    }
   ],
   "source": [
    "# Check for data types\n",
    "clean_price_rev_df.dtypes"
   ]
  },
  {
   "cell_type": "code",
   "execution_count": 13,
   "id": "0f149b34-78e7-4498-a0ae-771b053e5c8c",
   "metadata": {},
   "outputs": [
    {
     "name": "stderr",
     "output_type": "stream",
     "text": [
      "/home/timur/anaconda3/lib/python3.9/site-packages/pandas/core/frame.py:3069: SettingWithCopyWarning: \n",
      "A value is trying to be set on a copy of a slice from a DataFrame.\n",
      "Try using .loc[row_indexer,col_indexer] = value instead\n",
      "\n",
      "See the caveats in the documentation: https://pandas.pydata.org/pandas-docs/stable/user_guide/indexing.html#returning-a-view-versus-a-copy\n",
      "  self[k1] = value[k2]\n"
     ]
    }
   ],
   "source": [
    "#Change Date values to Datetext first because we can't change 2000-12 text to numeric format\n",
    "clean_price_rev_df[['Date']] = clean_price_rev_df[['Date']].apply(pd.to_datetime)\n",
    "\n",
    "#Change data types to Numeric\n",
    "clean_price_rev_df = clean_price_rev_df.apply(pd.to_numeric)\n",
    "\n",
    "#Change Date values from Numeric to Datetext again\n",
    "clean_price_rev_df[['Date']] = clean_price_rev_df[['Date']].apply(pd.to_datetime)"
   ]
  },
  {
   "cell_type": "code",
   "execution_count": 14,
   "id": "b37ac79e-c62c-48cb-a02f-2e294ed95bc0",
   "metadata": {},
   "outputs": [
    {
     "data": {
      "text/plain": [
       "Date                datetime64[ns]\n",
       "Revenue                    float64\n",
       "Gross profit               float64\n",
       "EPS                        float64\n",
       "EBITDA                     float64\n",
       "Operating income           float64\n",
       "PE ratio                   float64\n",
       "Net income                 float64\n",
       "Price                      float64\n",
       "dtype: object"
      ]
     },
     "execution_count": 14,
     "metadata": {},
     "output_type": "execute_result"
    }
   ],
   "source": [
    "# Check for data types\n",
    "clean_price_rev_df.dtypes"
   ]
  },
  {
   "cell_type": "code",
   "execution_count": 15,
   "id": "b8ba6e16-7ce6-4435-bb1b-8a2fbe72ef48",
   "metadata": {},
   "outputs": [
    {
     "name": "stdout",
     "output_type": "stream",
     "text": [
      "<class 'pandas.core.frame.DataFrame'>\n",
      "Int64Index: 41 entries, 0 to 40\n",
      "Data columns (total 9 columns):\n",
      " #   Column            Non-Null Count  Dtype         \n",
      "---  ------            --------------  -----         \n",
      " 0   Date              41 non-null     datetime64[ns]\n",
      " 1   Revenue           41 non-null     float64       \n",
      " 2   Gross profit      41 non-null     float64       \n",
      " 3   EPS               41 non-null     float64       \n",
      " 4   EBITDA            41 non-null     float64       \n",
      " 5   Operating income  41 non-null     float64       \n",
      " 6   PE ratio          38 non-null     float64       \n",
      " 7   Net income        41 non-null     float64       \n",
      " 8   Price             41 non-null     float64       \n",
      "dtypes: datetime64[ns](1), float64(8)\n",
      "memory usage: 3.2 KB\n"
     ]
    }
   ],
   "source": [
    "# Check for NaN values\n",
    "clean_price_rev_df.info()"
   ]
  },
  {
   "cell_type": "markdown",
   "id": "ac7aae1c-1dfc-46f4-833a-9257385d07a6",
   "metadata": {},
   "source": [
    "As we can see PE ration has 3 NaN values lets replace it by mean value"
   ]
  },
  {
   "cell_type": "code",
   "execution_count": 16,
   "id": "467bf970-87a2-427b-96e1-8c8c12e501d0",
   "metadata": {},
   "outputs": [],
   "source": [
    "# Replace NaN by Mean\n",
    "clean_price_rev_df.fillna(value=clean_price_rev_df['PE ratio'].mean(), inplace=True)"
   ]
  },
  {
   "cell_type": "markdown",
   "id": "42ba7176-4c4f-428e-a26d-b3cc1c867efb",
   "metadata": {},
   "source": [
    "The theory is that after the report date we should wait aproximately 3 month to see  how this report affected to the market price. So current report data will be used for predictions to the next 3 month.\n",
    "For this purposes we need shif price column down to 1 row."
   ]
  },
  {
   "cell_type": "code",
   "execution_count": 17,
   "id": "da1cd3d4-44ba-47d0-9d69-b26820c4fcf8",
   "metadata": {},
   "outputs": [],
   "source": [
    "# Clone dataframe\n",
    "price_rev_df_shifted = clean_price_rev_df "
   ]
  },
  {
   "cell_type": "code",
   "execution_count": 18,
   "id": "adcd236e-4509-4e00-b088-2b4638c84c89",
   "metadata": {},
   "outputs": [
    {
     "data": {
      "text/html": [
       "<div>\n",
       "<style scoped>\n",
       "    .dataframe tbody tr th:only-of-type {\n",
       "        vertical-align: middle;\n",
       "    }\n",
       "\n",
       "    .dataframe tbody tr th {\n",
       "        vertical-align: top;\n",
       "    }\n",
       "\n",
       "    .dataframe thead th {\n",
       "        text-align: right;\n",
       "    }\n",
       "</style>\n",
       "<table border=\"1\" class=\"dataframe\">\n",
       "  <thead>\n",
       "    <tr style=\"text-align: right;\">\n",
       "      <th></th>\n",
       "      <th>Date</th>\n",
       "      <th>Revenue</th>\n",
       "      <th>Gross profit</th>\n",
       "      <th>EPS</th>\n",
       "      <th>EBITDA</th>\n",
       "      <th>Operating income</th>\n",
       "      <th>PE ratio</th>\n",
       "      <th>Net income</th>\n",
       "      <th>Price</th>\n",
       "    </tr>\n",
       "  </thead>\n",
       "  <tbody>\n",
       "    <tr>\n",
       "      <th>0</th>\n",
       "      <td>2022-06-30</td>\n",
       "      <td>28822.0</td>\n",
       "      <td>23630.0</td>\n",
       "      <td>2.46</td>\n",
       "      <td>10337.0</td>\n",
       "      <td>8358.0</td>\n",
       "      <td>13.36</td>\n",
       "      <td>6687.0</td>\n",
       "      <td>NaN</td>\n",
       "    </tr>\n",
       "    <tr>\n",
       "      <th>1</th>\n",
       "      <td>2022-03-31</td>\n",
       "      <td>27908.0</td>\n",
       "      <td>21903.0</td>\n",
       "      <td>2.72</td>\n",
       "      <td>10680.0</td>\n",
       "      <td>8524.0</td>\n",
       "      <td>16.82</td>\n",
       "      <td>7465.0</td>\n",
       "      <td>160.679993</td>\n",
       "    </tr>\n",
       "    <tr>\n",
       "      <th>2</th>\n",
       "      <td>2021-12-31</td>\n",
       "      <td>33671.0</td>\n",
       "      <td>27323.0</td>\n",
       "      <td>3.64</td>\n",
       "      <td>14599.0</td>\n",
       "      <td>12585.0</td>\n",
       "      <td>24.37</td>\n",
       "      <td>10285.0</td>\n",
       "      <td>229.860001</td>\n",
       "    </tr>\n",
       "    <tr>\n",
       "      <th>3</th>\n",
       "      <td>2021-09-30</td>\n",
       "      <td>29010.0</td>\n",
       "      <td>23239.0</td>\n",
       "      <td>3.22</td>\n",
       "      <td>12418.0</td>\n",
       "      <td>10423.0</td>\n",
       "      <td>24.22</td>\n",
       "      <td>9194.0</td>\n",
       "      <td>346.179993</td>\n",
       "    </tr>\n",
       "    <tr>\n",
       "      <th>4</th>\n",
       "      <td>2021-06-30</td>\n",
       "      <td>29077.0</td>\n",
       "      <td>23678.0</td>\n",
       "      <td>3.61</td>\n",
       "      <td>14353.0</td>\n",
       "      <td>12367.0</td>\n",
       "      <td>25.76</td>\n",
       "      <td>10394.0</td>\n",
       "      <td>340.649994</td>\n",
       "    </tr>\n",
       "  </tbody>\n",
       "</table>\n",
       "</div>"
      ],
      "text/plain": [
       "        Date  Revenue  Gross profit   EPS   EBITDA  Operating income  \\\n",
       "0 2022-06-30  28822.0       23630.0  2.46  10337.0            8358.0   \n",
       "1 2022-03-31  27908.0       21903.0  2.72  10680.0            8524.0   \n",
       "2 2021-12-31  33671.0       27323.0  3.64  14599.0           12585.0   \n",
       "3 2021-09-30  29010.0       23239.0  3.22  12418.0           10423.0   \n",
       "4 2021-06-30  29077.0       23678.0  3.61  14353.0           12367.0   \n",
       "\n",
       "   PE ratio  Net income       Price  \n",
       "0     13.36      6687.0         NaN  \n",
       "1     16.82      7465.0  160.679993  \n",
       "2     24.37     10285.0  229.860001  \n",
       "3     24.22      9194.0  346.179993  \n",
       "4     25.76     10394.0  340.649994  "
      ]
     },
     "execution_count": 18,
     "metadata": {},
     "output_type": "execute_result"
    }
   ],
   "source": [
    "# Shift price column\n",
    "price_rev_df_shifted['Price'] = price_rev_df_shifted['Price'].shift(1)\n",
    "price_rev_df_shifted.head()"
   ]
  },
  {
   "cell_type": "markdown",
   "id": "11aa673d-d8c5-4976-92fa-bcec93831bd4",
   "metadata": {},
   "source": [
    "Now it's time to explore our dataframe. Let's take a look to correlation between variables."
   ]
  },
  {
   "cell_type": "code",
   "execution_count": 74,
   "id": "c4001144-25ab-4620-8368-74cfd8b58345",
   "metadata": {},
   "outputs": [
    {
     "data": {
      "text/html": [
       "<div>\n",
       "<style scoped>\n",
       "    .dataframe tbody tr th:only-of-type {\n",
       "        vertical-align: middle;\n",
       "    }\n",
       "\n",
       "    .dataframe tbody tr th {\n",
       "        vertical-align: top;\n",
       "    }\n",
       "\n",
       "    .dataframe thead th {\n",
       "        text-align: right;\n",
       "    }\n",
       "</style>\n",
       "<table border=\"1\" class=\"dataframe\">\n",
       "  <thead>\n",
       "    <tr style=\"text-align: right;\">\n",
       "      <th></th>\n",
       "      <th>Revenue</th>\n",
       "      <th>Gross profit</th>\n",
       "      <th>EPS</th>\n",
       "      <th>EBITDA</th>\n",
       "      <th>Operating income</th>\n",
       "      <th>PE ratio</th>\n",
       "      <th>Net income</th>\n",
       "      <th>Price</th>\n",
       "    </tr>\n",
       "  </thead>\n",
       "  <tbody>\n",
       "    <tr>\n",
       "      <th>Revenue</th>\n",
       "      <td>1.000000</td>\n",
       "      <td>0.999351</td>\n",
       "      <td>0.957176</td>\n",
       "      <td>0.972385</td>\n",
       "      <td>0.958794</td>\n",
       "      <td>-0.292468</td>\n",
       "      <td>0.950839</td>\n",
       "      <td>0.889512</td>\n",
       "    </tr>\n",
       "    <tr>\n",
       "      <th>Gross profit</th>\n",
       "      <td>0.999351</td>\n",
       "      <td>1.000000</td>\n",
       "      <td>0.960797</td>\n",
       "      <td>0.976668</td>\n",
       "      <td>0.964345</td>\n",
       "      <td>-0.299390</td>\n",
       "      <td>0.955033</td>\n",
       "      <td>0.892772</td>\n",
       "    </tr>\n",
       "    <tr>\n",
       "      <th>EPS</th>\n",
       "      <td>0.957176</td>\n",
       "      <td>0.960797</td>\n",
       "      <td>1.000000</td>\n",
       "      <td>0.990086</td>\n",
       "      <td>0.990158</td>\n",
       "      <td>-0.286533</td>\n",
       "      <td>0.999506</td>\n",
       "      <td>0.894400</td>\n",
       "    </tr>\n",
       "    <tr>\n",
       "      <th>EBITDA</th>\n",
       "      <td>0.972385</td>\n",
       "      <td>0.976668</td>\n",
       "      <td>0.990086</td>\n",
       "      <td>1.000000</td>\n",
       "      <td>0.998256</td>\n",
       "      <td>-0.299186</td>\n",
       "      <td>0.989004</td>\n",
       "      <td>0.902068</td>\n",
       "    </tr>\n",
       "    <tr>\n",
       "      <th>Operating income</th>\n",
       "      <td>0.958794</td>\n",
       "      <td>0.964345</td>\n",
       "      <td>0.990158</td>\n",
       "      <td>0.998256</td>\n",
       "      <td>1.000000</td>\n",
       "      <td>-0.296294</td>\n",
       "      <td>0.989972</td>\n",
       "      <td>0.892217</td>\n",
       "    </tr>\n",
       "    <tr>\n",
       "      <th>PE ratio</th>\n",
       "      <td>-0.292468</td>\n",
       "      <td>-0.299390</td>\n",
       "      <td>-0.286533</td>\n",
       "      <td>-0.299186</td>\n",
       "      <td>-0.296294</td>\n",
       "      <td>1.000000</td>\n",
       "      <td>-0.288899</td>\n",
       "      <td>-0.335888</td>\n",
       "    </tr>\n",
       "    <tr>\n",
       "      <th>Net income</th>\n",
       "      <td>0.950839</td>\n",
       "      <td>0.955033</td>\n",
       "      <td>0.999506</td>\n",
       "      <td>0.989004</td>\n",
       "      <td>0.989972</td>\n",
       "      <td>-0.288899</td>\n",
       "      <td>1.000000</td>\n",
       "      <td>0.897509</td>\n",
       "    </tr>\n",
       "    <tr>\n",
       "      <th>Price</th>\n",
       "      <td>0.889512</td>\n",
       "      <td>0.892772</td>\n",
       "      <td>0.894400</td>\n",
       "      <td>0.902068</td>\n",
       "      <td>0.892217</td>\n",
       "      <td>-0.335888</td>\n",
       "      <td>0.897509</td>\n",
       "      <td>1.000000</td>\n",
       "    </tr>\n",
       "  </tbody>\n",
       "</table>\n",
       "</div>"
      ],
      "text/plain": [
       "                   Revenue  Gross profit       EPS    EBITDA  \\\n",
       "Revenue           1.000000      0.999351  0.957176  0.972385   \n",
       "Gross profit      0.999351      1.000000  0.960797  0.976668   \n",
       "EPS               0.957176      0.960797  1.000000  0.990086   \n",
       "EBITDA            0.972385      0.976668  0.990086  1.000000   \n",
       "Operating income  0.958794      0.964345  0.990158  0.998256   \n",
       "PE ratio         -0.292468     -0.299390 -0.286533 -0.299186   \n",
       "Net income        0.950839      0.955033  0.999506  0.989004   \n",
       "Price             0.889512      0.892772  0.894400  0.902068   \n",
       "\n",
       "                  Operating income  PE ratio  Net income     Price  \n",
       "Revenue                   0.958794 -0.292468    0.950839  0.889512  \n",
       "Gross profit              0.964345 -0.299390    0.955033  0.892772  \n",
       "EPS                       0.990158 -0.286533    0.999506  0.894400  \n",
       "EBITDA                    0.998256 -0.299186    0.989004  0.902068  \n",
       "Operating income          1.000000 -0.296294    0.989972  0.892217  \n",
       "PE ratio                 -0.296294  1.000000   -0.288899 -0.335888  \n",
       "Net income                0.989972 -0.288899    1.000000  0.897509  \n",
       "Price                     0.892217 -0.335888    0.897509  1.000000  "
      ]
     },
     "execution_count": 74,
     "metadata": {},
     "output_type": "execute_result"
    }
   ],
   "source": [
    "# Build correlation matrix\n",
    "clean_price_rev_df.corr()"
   ]
  },
  {
   "cell_type": "markdown",
   "id": "00f68389-b530-4cb8-beb5-b373f1602057",
   "metadata": {},
   "source": [
    "What do we realise here? There is strong correlation between varibles. I'm not surprized because that vars shows almoust same measure Income of the company. Strong correlation I mean value of correlation coefficien more than 90%. To automate process of determining vars that have strong correlation lets use function:"
   ]
  },
  {
   "cell_type": "code",
   "execution_count": 78,
   "id": "0ffc4d95-3d90-4cbf-a97d-a5fbc03c1409",
   "metadata": {},
   "outputs": [],
   "source": [
    "def get_vars_list_with_strong_correlation(dataframe):\n",
    "    # Function returns list of vars that correlates to each  other with value of correlation\n",
    "    # coefficien more then 90%\n",
    "    \n",
    "    # Create an empty list\n",
    "    CorField = []\n",
    "    \n",
    "    # Count correlation coefficients\n",
    "    CorrKoef=dataframe.corr()    \n",
    "    \n",
    "    # For each column in df\n",
    "    for column_index in CorrKoef:\n",
    "        \n",
    "        # For each var index in filtered df where value more then 90%\n",
    "        for var_index in CorrKoef.index[CorrKoef[column_index] > 0.9]:\n",
    "            \n",
    "            # Check if var index already in list and check for coefficient \n",
    "            # for same variable\n",
    "            if column_index != var_index and var_index not in CorField and column_index not in CorField:\n",
    "                CorField.append(var_index)\n",
    "                print (\"%s-->%s: r^2=%f\" % (column_index,var_index, CorrKoef[column_index][CorrKoef.index==var_index].values[0]))\n",
    "    return(CorField)           "
   ]
  },
  {
   "cell_type": "code",
   "execution_count": 80,
   "id": "7ef1a5ef-2b82-4867-80d9-47851baf90c6",
   "metadata": {},
   "outputs": [
    {
     "name": "stdout",
     "output_type": "stream",
     "text": [
      "Revenue-->Gross profit: r^2=0.999351\n",
      "Revenue-->EPS: r^2=0.957176\n",
      "Revenue-->EBITDA: r^2=0.972385\n",
      "Revenue-->Operating income: r^2=0.958794\n",
      "Revenue-->Net income: r^2=0.950839\n"
     ]
    },
    {
     "data": {
      "text/plain": [
       "['Gross profit', 'EPS', 'EBITDA', 'Operating income', 'Net income']"
      ]
     },
     "execution_count": 80,
     "metadata": {},
     "output_type": "execute_result"
    }
   ],
   "source": [
    "# Get vars that has strong correlation\n",
    "xx = get_vars_list_with_strong_correlation(clean_price_rev_df)\n",
    "xx"
   ]
  },
  {
   "cell_type": "markdown",
   "id": "d963d34a-74ce-4f0c-9c42-c453b43d2df6",
   "metadata": {},
   "source": [
    "Now wee need to exclude 5 of this 6 vars. Let's take a look to correlation of this vars to 'Price'. As we can see strongest correlation with EBITDA. So we'll use EBITDA and PE ratio to our model."
   ]
  },
  {
   "cell_type": "markdown",
   "id": "d7ca7457-bcd3-43c9-becf-e1280503a8b7",
   "metadata": {},
   "source": [
    "## Linear model prediction"
   ]
  },
  {
   "cell_type": "markdown",
   "id": "01028b38-8e98-4504-b3a9-cfd085a272c0",
   "metadata": {},
   "source": [
    "Since we have dataframe and know that there is linear correlation between <b>price</b> and <b>revenue</b> we can build linear regression model. Let's jump right in."
   ]
  },
  {
   "cell_type": "code",
   "execution_count": 131,
   "id": "4cf412ce-cb5e-407c-98ef-fda51b8a8cc5",
   "metadata": {},
   "outputs": [],
   "source": [
    "# Import libraries\n",
    "import numpy as np\n",
    "# Preprocessing allows us to standarsize our data\n",
    "from sklearn import preprocessing\n",
    "# Allows us to split our data into training and testing data\n",
    "from sklearn.model_selection import train_test_split\n",
    "# Linear model algorithm\n",
    "from sklearn import linear_model"
   ]
  },
  {
   "cell_type": "markdown",
   "id": "9bf80a32-b193-4148-9931-4dfca469e2fb",
   "metadata": {},
   "source": [
    "Cut of first row with NaN and date column."
   ]
  },
  {
   "cell_type": "code",
   "execution_count": 132,
   "id": "db74e1d6-5ce9-47e7-9e82-e91e65d02329",
   "metadata": {},
   "outputs": [
    {
     "data": {
      "text/html": [
       "<div>\n",
       "<style scoped>\n",
       "    .dataframe tbody tr th:only-of-type {\n",
       "        vertical-align: middle;\n",
       "    }\n",
       "\n",
       "    .dataframe tbody tr th {\n",
       "        vertical-align: top;\n",
       "    }\n",
       "\n",
       "    .dataframe thead th {\n",
       "        text-align: right;\n",
       "    }\n",
       "</style>\n",
       "<table border=\"1\" class=\"dataframe\">\n",
       "  <thead>\n",
       "    <tr style=\"text-align: right;\">\n",
       "      <th></th>\n",
       "      <th>Date</th>\n",
       "      <th>Revenue</th>\n",
       "      <th>Gross profit</th>\n",
       "      <th>EPS</th>\n",
       "      <th>EBITDA</th>\n",
       "      <th>Operating income</th>\n",
       "      <th>PE ratio</th>\n",
       "      <th>Net income</th>\n",
       "      <th>Price</th>\n",
       "    </tr>\n",
       "  </thead>\n",
       "  <tbody>\n",
       "    <tr>\n",
       "      <th>1</th>\n",
       "      <td>2022-03-31</td>\n",
       "      <td>27908.0</td>\n",
       "      <td>21903.0</td>\n",
       "      <td>2.72</td>\n",
       "      <td>10680.0</td>\n",
       "      <td>8524.0</td>\n",
       "      <td>16.82</td>\n",
       "      <td>7465.0</td>\n",
       "      <td>160.679993</td>\n",
       "    </tr>\n",
       "    <tr>\n",
       "      <th>2</th>\n",
       "      <td>2021-12-31</td>\n",
       "      <td>33671.0</td>\n",
       "      <td>27323.0</td>\n",
       "      <td>3.64</td>\n",
       "      <td>14599.0</td>\n",
       "      <td>12585.0</td>\n",
       "      <td>24.37</td>\n",
       "      <td>10285.0</td>\n",
       "      <td>229.860001</td>\n",
       "    </tr>\n",
       "    <tr>\n",
       "      <th>3</th>\n",
       "      <td>2021-09-30</td>\n",
       "      <td>29010.0</td>\n",
       "      <td>23239.0</td>\n",
       "      <td>3.22</td>\n",
       "      <td>12418.0</td>\n",
       "      <td>10423.0</td>\n",
       "      <td>24.22</td>\n",
       "      <td>9194.0</td>\n",
       "      <td>346.179993</td>\n",
       "    </tr>\n",
       "    <tr>\n",
       "      <th>4</th>\n",
       "      <td>2021-06-30</td>\n",
       "      <td>29077.0</td>\n",
       "      <td>23678.0</td>\n",
       "      <td>3.61</td>\n",
       "      <td>14353.0</td>\n",
       "      <td>12367.0</td>\n",
       "      <td>25.76</td>\n",
       "      <td>10394.0</td>\n",
       "      <td>340.649994</td>\n",
       "    </tr>\n",
       "    <tr>\n",
       "      <th>5</th>\n",
       "      <td>2021-03-31</td>\n",
       "      <td>26171.0</td>\n",
       "      <td>21040.0</td>\n",
       "      <td>3.30</td>\n",
       "      <td>13350.0</td>\n",
       "      <td>11378.0</td>\n",
       "      <td>25.20</td>\n",
       "      <td>9497.0</td>\n",
       "      <td>355.640015</td>\n",
       "    </tr>\n",
       "  </tbody>\n",
       "</table>\n",
       "</div>"
      ],
      "text/plain": [
       "        Date  Revenue  Gross profit   EPS   EBITDA  Operating income  \\\n",
       "1 2022-03-31  27908.0       21903.0  2.72  10680.0            8524.0   \n",
       "2 2021-12-31  33671.0       27323.0  3.64  14599.0           12585.0   \n",
       "3 2021-09-30  29010.0       23239.0  3.22  12418.0           10423.0   \n",
       "4 2021-06-30  29077.0       23678.0  3.61  14353.0           12367.0   \n",
       "5 2021-03-31  26171.0       21040.0  3.30  13350.0           11378.0   \n",
       "\n",
       "   PE ratio  Net income       Price  \n",
       "1     16.82      7465.0  160.679993  \n",
       "2     24.37     10285.0  229.860001  \n",
       "3     24.22      9194.0  346.179993  \n",
       "4     25.76     10394.0  340.649994  \n",
       "5     25.20      9497.0  355.640015  "
      ]
     },
     "execution_count": 132,
     "metadata": {},
     "output_type": "execute_result"
    }
   ],
   "source": [
    "price_rev_df_shifted_without_first_row = price_rev_df_shifted[1:len(price_rev_df_shifted)]\n",
    "price_rev_df_shifted_without_first_row.head()"
   ]
  },
  {
   "cell_type": "code",
   "execution_count": 133,
   "id": "993e0072-9d6f-4864-a258-6a239bc6a51c",
   "metadata": {},
   "outputs": [
    {
     "data": {
      "text/html": [
       "<div>\n",
       "<style scoped>\n",
       "    .dataframe tbody tr th:only-of-type {\n",
       "        vertical-align: middle;\n",
       "    }\n",
       "\n",
       "    .dataframe tbody tr th {\n",
       "        vertical-align: top;\n",
       "    }\n",
       "\n",
       "    .dataframe thead th {\n",
       "        text-align: right;\n",
       "    }\n",
       "</style>\n",
       "<table border=\"1\" class=\"dataframe\">\n",
       "  <thead>\n",
       "    <tr style=\"text-align: right;\">\n",
       "      <th></th>\n",
       "      <th>Date</th>\n",
       "      <th>Revenue</th>\n",
       "      <th>Gross profit</th>\n",
       "      <th>EPS</th>\n",
       "      <th>EBITDA</th>\n",
       "      <th>Operating income</th>\n",
       "      <th>PE ratio</th>\n",
       "      <th>Net income</th>\n",
       "      <th>Price</th>\n",
       "    </tr>\n",
       "  </thead>\n",
       "  <tbody>\n",
       "    <tr>\n",
       "      <th>0</th>\n",
       "      <td>2022-06-30</td>\n",
       "      <td>28822.0</td>\n",
       "      <td>23630.0</td>\n",
       "      <td>2.46</td>\n",
       "      <td>10337.0</td>\n",
       "      <td>8358.0</td>\n",
       "      <td>13.36</td>\n",
       "      <td>6687.0</td>\n",
       "      <td>NaN</td>\n",
       "    </tr>\n",
       "  </tbody>\n",
       "</table>\n",
       "</div>"
      ],
      "text/plain": [
       "        Date  Revenue  Gross profit   EPS   EBITDA  Operating income  \\\n",
       "0 2022-06-30  28822.0       23630.0  2.46  10337.0            8358.0   \n",
       "\n",
       "   PE ratio  Net income  Price  \n",
       "0     13.36      6687.0    NaN  "
      ]
     },
     "execution_count": 133,
     "metadata": {},
     "output_type": "execute_result"
    }
   ],
   "source": [
    "price_rev_first_row = price_rev_df_shifted[0:1]\n",
    "price_rev_first_row"
   ]
  },
  {
   "cell_type": "markdown",
   "id": "8afff723-7cfe-4f66-b670-72a74067d8cf",
   "metadata": {},
   "source": [
    "Create train and test dataset"
   ]
  },
  {
   "cell_type": "code",
   "execution_count": 161,
   "id": "81bfdb46-b1d3-4397-a488-0cffc13cec70",
   "metadata": {},
   "outputs": [
    {
     "name": "stdout",
     "output_type": "stream",
     "text": [
      "Train set: (32, 2) (32,)\n",
      "Test set: (8, 2) (8,)\n"
     ]
    }
   ],
   "source": [
    "# Split test and train data\n",
    "X = price_rev_df_shifted_without_first_row[['EBITDA', 'PE ratio']].values\n",
    "Y = price_rev_df_shifted_without_first_row['Price'].values\n",
    "                                           \n",
    "from sklearn.model_selection import train_test_split \n",
    "\n",
    "X_train, X_test, y_train, y_test = train_test_split(X, Y, test_size=0.2, random_state=0)\n",
    "\n",
    "print ('Train set:', X_train.shape,  y_train.shape)\n",
    "print ('Test set:', X_test.shape,  y_test.shape)"
   ]
  },
  {
   "cell_type": "markdown",
   "id": "3d5e1446-df91-43b8-b5b8-851d6ddb146c",
   "metadata": {},
   "source": [
    "When train and test data splited build the model"
   ]
  },
  {
   "cell_type": "code",
   "execution_count": 162,
   "id": "564f9a3a-f20d-49c6-88dd-bf4395ddc3e5",
   "metadata": {},
   "outputs": [
    {
     "name": "stdout",
     "output_type": "stream",
     "text": [
      "Coefficients:  [ 0.01709512 -0.03437189]\n",
      "Intercept:  54.283655339925076\n"
     ]
    }
   ],
   "source": [
    "# Built the model\n",
    "regr = linear_model.LinearRegression()\n",
    "\n",
    "regr.fit (X_train, y_train)\n",
    "\n",
    "# The coefficients\n",
    "print ('Coefficients: ', regr.coef_)\n",
    "print('Intercept: ',regr.intercept_) "
   ]
  },
  {
   "cell_type": "code",
   "execution_count": 167,
   "id": "b3f553a2-4565-4192-8f84-b30a3a2c957d",
   "metadata": {},
   "outputs": [
    {
     "name": "stdout",
     "output_type": "stream",
     "text": [
      "       Actual   Predicted\n",
      "0  118.010002  115.969915\n",
      "1  153.589996  121.338244\n",
      "2  116.139999  104.519219\n",
      "3  355.640015  281.637316\n",
      "4  208.100006  200.340890\n",
      "5  166.949997  171.154781\n",
      "6   88.010002   75.302306\n",
      "7  180.110001  157.918237\n",
      "\n",
      "Residual sum of squares: 923.45\n",
      "Variance score: 0.85\n"
     ]
    }
   ],
   "source": [
    "# Predict values\n",
    "y_test_predicted = regr.predict(X_test)\n",
    "\n",
    "# Built df with actual and predicted values\n",
    "actual_predicted = pd.DataFrame({'Actual': y_test, 'Predicted': y_test_predicted}) \n",
    "print(actual_predicted)\n",
    "\n",
    "print(\"\\nResidual sum of squares: %.2f\"\n",
    "      % np.mean((y_test_predicted - y_test) ** 2))\n",
    "\n",
    "# Explained variance score: 1 is perfect prediction\n",
    "print('Variance score: %.2f' % regr.score(X_test, y_test))"
   ]
  },
  {
   "cell_type": "code",
   "execution_count": 170,
   "id": "862ca9e2-8582-4d0f-b223-b540387f9428",
   "metadata": {},
   "outputs": [
    {
     "name": "stdout",
     "output_type": "stream",
     "text": [
      "Mean Absolute Error: 20.84733503146682\n",
      "Mean Squared Error: 923.4529342108942\n",
      "Root Mean Squared Error: 30.38836840323768\n"
     ]
    }
   ],
   "source": [
    "from sklearn import metrics \n",
    "\n",
    "print('Mean Absolute Error:', metrics.mean_absolute_error(y_test, y_test_predicted)) \n",
    "print('Mean Squared Error:', metrics.mean_squared_error(y_test, y_test_predicted)) \n",
    "print('Root Mean Squared Error:', np.sqrt(metrics.mean_squared_error(y_test, y_test_predicted)))"
   ]
  },
  {
   "cell_type": "code",
   "execution_count": 171,
   "id": "ec3ba606-05bc-460b-a535-adcccb1e8df8",
   "metadata": {},
   "outputs": [],
   "source": [
    "y_hat= regr.predict(price_rev_first_row[['EBITDA', 'PE ratio']])"
   ]
  },
  {
   "cell_type": "code",
   "execution_count": 181,
   "id": "18189bbe-b244-4217-8b8d-f7e031c34ce8",
   "metadata": {},
   "outputs": [
    {
     "name": "stdout",
     "output_type": "stream",
     "text": [
      "Predicted price:  [230.53668715] Current price:  158.5399932861328\n"
     ]
    }
   ],
   "source": [
    "print(\"Predicted price: \",y_hat, \"Current price: \", hist.iloc[len(hist)-1, 4])"
   ]
  },
  {
   "cell_type": "markdown",
   "id": "e4e1ca54-8e63-4d74-932b-b62e1c160971",
   "metadata": {},
   "source": [
    "## Conclusion"
   ]
  },
  {
   "cell_type": "markdown",
   "id": "a7ca460b-a67e-417b-b573-c9e36a3a3e7f",
   "metadata": {},
   "source": [
    "Now when we know predicted price we can use that information to make investment desigions. But this information only gives general veiw"
   ]
  },
  {
   "cell_type": "markdown",
   "id": "89e19b1f-4a88-44f7-a5e7-af534e96ab62",
   "metadata": {},
   "source": [
    "Created by Timur Talikbayev"
   ]
  }
 ],
 "metadata": {
  "kernelspec": {
   "display_name": "Python 3 (ipykernel)",
   "language": "python",
   "name": "python3"
  },
  "language_info": {
   "codemirror_mode": {
    "name": "ipython",
    "version": 3
   },
   "file_extension": ".py",
   "mimetype": "text/x-python",
   "name": "python",
   "nbconvert_exporter": "python",
   "pygments_lexer": "ipython3",
   "version": "3.9.7"
  }
 },
 "nbformat": 4,
 "nbformat_minor": 5
}
