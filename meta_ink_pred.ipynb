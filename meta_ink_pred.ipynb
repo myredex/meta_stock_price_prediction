{
 "cells": [
  {
   "cell_type": "markdown",
   "id": "24b74e01-c728-4884-9628-92095c57719a",
   "metadata": {},
   "source": [
    "# Meta Inc. Stock price predictions"
   ]
  },
  {
   "cell_type": "markdown",
   "id": "37f2839c-e71c-4616-8cc5-22847dbe8a85",
   "metadata": {},
   "source": [
    "Let's take a look to stock prices and market capitalisation as a result of how market reacts to financial statistics of the company. \n",
    "First of all we need to extract financial statistics from the web. After that we need to determine affection of this statistics to stock price and discover correlation.\n",
    "Final step will be building model to predict market capitalisation for the next quorter."
   ]
  },
  {
   "cell_type": "markdown",
   "id": "efcba19b-d5b5-4705-9854-f3c67a8edb4e",
   "metadata": {},
   "source": [
    "Import libraries"
   ]
  },
  {
   "cell_type": "code",
   "execution_count": 1,
   "id": "e2f9f7a1-e553-46f9-a68b-d42569eff49d",
   "metadata": {},
   "outputs": [
    {
     "name": "stdout",
     "output_type": "stream",
     "text": [
      "\n",
      "                  __    __    __    __\n",
      "                 /  \\  /  \\  /  \\  /  \\\n",
      "                /    \\/    \\/    \\/    \\\n",
      "███████████████/  /██/  /██/  /██/  /████████████████████████\n",
      "              /  / \\   / \\   / \\   / \\  \\____\n",
      "             /  /   \\_/   \\_/   \\_/   \\    o \\__,\n",
      "            / _/                       \\_____/  `\n",
      "            |/\n",
      "        ███╗   ███╗ █████╗ ███╗   ███╗██████╗  █████╗\n",
      "        ████╗ ████║██╔══██╗████╗ ████║██╔══██╗██╔══██╗\n",
      "        ██╔████╔██║███████║██╔████╔██║██████╔╝███████║\n",
      "        ██║╚██╔╝██║██╔══██║██║╚██╔╝██║██╔══██╗██╔══██║\n",
      "        ██║ ╚═╝ ██║██║  ██║██║ ╚═╝ ██║██████╔╝██║  ██║\n",
      "        ╚═╝     ╚═╝╚═╝  ╚═╝╚═╝     ╚═╝╚═════╝ ╚═╝  ╚═╝\n",
      "\n",
      "        mamba (0.7.6) supported by @QuantStack\n",
      "\n",
      "        GitHub:  https://github.com/mamba-org/mamba\n",
      "        Twitter: https://twitter.com/QuantStack\n",
      "\n",
      "█████████████████████████████████████████████████████████████\n",
      "\n",
      "\n",
      "Looking for: ['bs4==4.10.0']\n",
      "\n",
      "pkgs/main/noarch         [=>                  ] (--:--) No change\n",
      "pkgs/main/noarch         [====================] (00m:00s) No change\n",
      "pkgs/main/noarch         [====================] (00m:00s) No change\n",
      "pkgs/r/linux-64          [=>                  ] (--:--) No change\n",
      "pkgs/r/linux-64          [====================] (00m:00s) No change\n",
      "pkgs/r/linux-64          [====================] (00m:00s) No change\n",
      "pkgs/r/noarch            [=>                  ] (--:--) No change\n",
      "pkgs/r/noarch            [====================] (00m:00s) No change\n",
      "pkgs/r/noarch            [====================] (00m:00s) No change\n",
      "pkgs/main/linux-64       [<=>                 ] (00m:00s) \n",
      "pkgs/main/linux-64       [=>                ] (00m:00s) 45 KB / ?? (26.03 KB/s)\n",
      "pkgs/main/linux-64       [<=>               ] (00m:00s) 45 KB / ?? (26.03 KB/s)\n",
      "pkgs/main/linux-64       [<=>              ] (00m:00s) 101 KB / ?? (51.69 KB/s)\n",
      "pkgs/main/linux-64       [ <=>             ] (00m:00s) 101 KB / ?? (51.69 KB/s)\n",
      "pkgs/main/linux-64       [ <=>             ] (00m:00s) 176 KB / ?? (84.05 KB/s)\n",
      "pkgs/main/linux-64       [  <=>            ] (00m:00s) 176 KB / ?? (84.05 KB/s)\n",
      "pkgs/main/linux-64       [  <=>           ] (00m:00s) 924 KB / ?? (408.26 KB/s)\n",
      "pkgs/main/linux-64       [   <=>          ] (00m:00s) 924 KB / ?? (408.26 KB/s)\n",
      "pkgs/main/linux-64       [   <=>            ] (00m:00s) 2 MB / ?? (743.42 KB/s)\n",
      "pkgs/main/linux-64       [    <=>           ] (00m:00s) 2 MB / ?? (743.42 KB/s)\n",
      "pkgs/main/linux-64       [    <=>           ] (00m:00s) 2 MB / ?? (892.25 KB/s)\n",
      "pkgs/main/linux-64       [     <=>          ] (00m:01s) 2 MB / ?? (892.25 KB/s)\n",
      "pkgs/main/linux-64       [     <=>          ] (00m:01s) 2 MB / ?? (863.08 KB/s)\n",
      "pkgs/main/linux-64       [      <=>         ] (00m:01s) 2 MB / ?? (863.08 KB/s)\n",
      "pkgs/main/linux-64       [      <=>         ] (00m:01s) 3 MB / ?? (906.53 KB/s)\n",
      "pkgs/main/linux-64       [       <=>        ] (00m:01s) 3 MB / ?? (906.53 KB/s)\n",
      "pkgs/main/linux-64       [      <=>        ] (00m:01s) 3 MB / ?? (1018.50 KB/s)\n",
      "pkgs/main/linux-64       [       <=>       ] (00m:01s) 3 MB / ?? (1018.50 KB/s)\n",
      "pkgs/main/linux-64       [         <=>        ] (00m:01s) 4 MB / ?? (1.10 MB/s)\n",
      "pkgs/main/linux-64       [          <=>       ] (00m:01s) 4 MB / ?? (1.10 MB/s)\n",
      "pkgs/main/linux-64       [          <=>       ] (00m:01s) 4 MB / ?? (1.22 MB/s)\n",
      "pkgs/main/linux-64       [          <=>       ] (00m:01s) Finalizing...\n",
      "pkgs/main/linux-64       [          <=>       ] (00m:01s) Done\n",
      "pkgs/main/linux-64       [====================] (00m:01s) Done\n",
      "pkgs/main/linux-64       [====================] (00m:01s) Done\n",
      "Transaction\n",
      "\n",
      "  Prefix: /home/timur/anaconda3\n",
      "\n",
      "  All requested packages already installed\n",
      "\n",
      "\n",
      "                  __    __    __    __\n",
      "                 /  \\  /  \\  /  \\  /  \\\n",
      "                /    \\/    \\/    \\/    \\\n",
      "███████████████/  /██/  /██/  /██/  /████████████████████████\n",
      "              /  / \\   / \\   / \\   / \\  \\____\n",
      "             /  /   \\_/   \\_/   \\_/   \\    o \\__,\n",
      "            / _/                       \\_____/  `\n",
      "            |/\n",
      "        ███╗   ███╗ █████╗ ███╗   ███╗██████╗  █████╗\n",
      "        ████╗ ████║██╔══██╗████╗ ████║██╔══██╗██╔══██╗\n",
      "        ██╔████╔██║███████║██╔████╔██║██████╔╝███████║\n",
      "        ██║╚██╔╝██║██╔══██║██║╚██╔╝██║██╔══██╗██╔══██║\n",
      "        ██║ ╚═╝ ██║██║  ██║██║ ╚═╝ ██║██████╔╝██║  ██║\n",
      "        ╚═╝     ╚═╝╚═╝  ╚═╝╚═╝     ╚═╝╚═════╝ ╚═╝  ╚═╝\n",
      "\n",
      "        mamba (0.7.6) supported by @QuantStack\n",
      "\n",
      "        GitHub:  https://github.com/mamba-org/mamba\n",
      "        Twitter: https://twitter.com/QuantStack\n",
      "\n",
      "█████████████████████████████████████████████████████████████\n",
      "\n",
      "\n",
      "Looking for: ['html5lib==1.1']\n",
      "\n",
      "pkgs/main/linux-64       Using cache\n",
      "pkgs/main/noarch         Using cache\n",
      "pkgs/r/linux-64          Using cache\n",
      "pkgs/r/noarch            Using cache\n",
      "Transaction\n",
      "\n",
      "  Prefix: /home/timur/anaconda3\n",
      "\n",
      "  All requested packages already installed\n",
      "\n"
     ]
    }
   ],
   "source": [
    "import pandas as pd\n",
    "!mamba install bs4==4.10.0 -y\n",
    "!mamba install html5lib==1.1 -y"
   ]
  },
  {
   "cell_type": "code",
   "execution_count": 90,
   "id": "4d2cd1f6-ef02-4372-b238-ea0166ec327a",
   "metadata": {},
   "outputs": [],
   "source": [
    "#Import libraries for webscrapping\n",
    "import requests\n",
    "from bs4 import BeautifulSoup"
   ]
  },
  {
   "cell_type": "markdown",
   "id": "e18afb89-bc39-432c-82a7-dc14314c0692",
   "metadata": {},
   "source": [
    "Set url and get request"
   ]
  },
  {
   "cell_type": "code",
   "execution_count": 91,
   "id": "a73ba4a6-9136-40d1-9baf-90c9e186949a",
   "metadata": {},
   "outputs": [
    {
     "data": {
      "text/plain": [
       "<title>Meta Platforms Revenue 2010-2022 | META | MacroTrends</title>"
      ]
     },
     "execution_count": 91,
     "metadata": {},
     "output_type": "execute_result"
    }
   ],
   "source": [
    "url = \"https://www.macrotrends.net/stocks/charts/META/meta-platforms/revenue\"\n",
    "\n",
    "html_data = requests.get(url).text   #get data from the webpage\n",
    "souped_html = BeautifulSoup(html_data, 'html5lib') #Use beautifulsoup\n",
    "souped_html.title"
   ]
  },
  {
   "cell_type": "code",
   "execution_count": 92,
   "id": "3cac8462-8de8-410c-a9f7-b10252e35478",
   "metadata": {},
   "outputs": [
    {
     "name": "stdout",
     "output_type": "stream",
     "text": [
      "Missed rows: 1\n"
     ]
    }
   ],
   "source": [
    "# Find the second table with Quarterly Revenue /or use 0 for first table\n",
    "revenue_table = souped_html.find_all('table')[1]   \n",
    "\n",
    "#Create blank dataframe \n",
    "revenue_dataframe = pd.DataFrame(columns=[\"Date\", \"Revenue\"]) \n",
    " \n",
    "# Find all tr tags and put data into Dataframe\n",
    "count_of_missed_rows = 0\n",
    "for row in revenue_table.find(\"tbody\").find_all(\"tr\"):  \n",
    "\n",
    "    col = row.find_all(\"td\") \n",
    "    date = col[0].text \n",
    "    Revenue = col[1].text\n",
    "    Revenue = Revenue.replace('$', '').replace(',', '')\n",
    "\n",
    "    if Revenue.isdigit():\n",
    "        Revenue = float(Revenue)\n",
    "        revenue_dataframe = revenue_dataframe.append({\"Date\":date, \"Revenue\":Revenue}, ignore_index=True)\n",
    "    else: \n",
    "        count_of_missed_rows = count_of_missed_rows + 1\n",
    "        \n",
    "print(\"Missed rows:\", count_of_missed_rows) #How many rows were missed"
   ]
  },
  {
   "cell_type": "code",
   "execution_count": 93,
   "id": "2828abf4-e318-444c-8729-42ce18f3a949",
   "metadata": {},
   "outputs": [
    {
     "data": {
      "text/html": [
       "<div>\n",
       "<style scoped>\n",
       "    .dataframe tbody tr th:only-of-type {\n",
       "        vertical-align: middle;\n",
       "    }\n",
       "\n",
       "    .dataframe tbody tr th {\n",
       "        vertical-align: top;\n",
       "    }\n",
       "\n",
       "    .dataframe thead th {\n",
       "        text-align: right;\n",
       "    }\n",
       "</style>\n",
       "<table border=\"1\" class=\"dataframe\">\n",
       "  <thead>\n",
       "    <tr style=\"text-align: right;\">\n",
       "      <th></th>\n",
       "      <th>Date</th>\n",
       "      <th>Revenue</th>\n",
       "    </tr>\n",
       "  </thead>\n",
       "  <tbody>\n",
       "    <tr>\n",
       "      <th>0</th>\n",
       "      <td>2022-06-30</td>\n",
       "      <td>28822.0</td>\n",
       "    </tr>\n",
       "    <tr>\n",
       "      <th>1</th>\n",
       "      <td>2022-03-31</td>\n",
       "      <td>27908.0</td>\n",
       "    </tr>\n",
       "    <tr>\n",
       "      <th>2</th>\n",
       "      <td>2021-12-31</td>\n",
       "      <td>33671.0</td>\n",
       "    </tr>\n",
       "    <tr>\n",
       "      <th>3</th>\n",
       "      <td>2021-09-30</td>\n",
       "      <td>29010.0</td>\n",
       "    </tr>\n",
       "    <tr>\n",
       "      <th>4</th>\n",
       "      <td>2021-06-30</td>\n",
       "      <td>29077.0</td>\n",
       "    </tr>\n",
       "  </tbody>\n",
       "</table>\n",
       "</div>"
      ],
      "text/plain": [
       "         Date  Revenue\n",
       "0  2022-06-30  28822.0\n",
       "1  2022-03-31  27908.0\n",
       "2  2021-12-31  33671.0\n",
       "3  2021-09-30  29010.0\n",
       "4  2021-06-30  29077.0"
      ]
     },
     "execution_count": 93,
     "metadata": {},
     "output_type": "execute_result"
    }
   ],
   "source": [
    "revenue_dataframe.head()"
   ]
  },
  {
   "cell_type": "code",
   "execution_count": 94,
   "id": "e689d357-a726-429d-ae17-7e334f440407",
   "metadata": {},
   "outputs": [
    {
     "data": {
      "text/html": [
       "<div>\n",
       "<style scoped>\n",
       "    .dataframe tbody tr th:only-of-type {\n",
       "        vertical-align: middle;\n",
       "    }\n",
       "\n",
       "    .dataframe tbody tr th {\n",
       "        vertical-align: top;\n",
       "    }\n",
       "\n",
       "    .dataframe thead th {\n",
       "        text-align: right;\n",
       "    }\n",
       "</style>\n",
       "<table border=\"1\" class=\"dataframe\">\n",
       "  <thead>\n",
       "    <tr style=\"text-align: right;\">\n",
       "      <th></th>\n",
       "      <th>Date</th>\n",
       "      <th>Revenue</th>\n",
       "    </tr>\n",
       "  </thead>\n",
       "  <tbody>\n",
       "    <tr>\n",
       "      <th>45</th>\n",
       "      <td>2011-03-31</td>\n",
       "      <td>731.0</td>\n",
       "    </tr>\n",
       "    <tr>\n",
       "      <th>46</th>\n",
       "      <td>2010-12-31</td>\n",
       "      <td>731.0</td>\n",
       "    </tr>\n",
       "    <tr>\n",
       "      <th>47</th>\n",
       "      <td>2010-09-30</td>\n",
       "      <td>467.0</td>\n",
       "    </tr>\n",
       "    <tr>\n",
       "      <th>48</th>\n",
       "      <td>2010-06-30</td>\n",
       "      <td>431.0</td>\n",
       "    </tr>\n",
       "    <tr>\n",
       "      <th>49</th>\n",
       "      <td>2010-03-31</td>\n",
       "      <td>345.0</td>\n",
       "    </tr>\n",
       "  </tbody>\n",
       "</table>\n",
       "</div>"
      ],
      "text/plain": [
       "          Date  Revenue\n",
       "45  2011-03-31    731.0\n",
       "46  2010-12-31    731.0\n",
       "47  2010-09-30    467.0\n",
       "48  2010-06-30    431.0\n",
       "49  2010-03-31    345.0"
      ]
     },
     "execution_count": 94,
     "metadata": {},
     "output_type": "execute_result"
    }
   ],
   "source": [
    "revenue_dataframe.tail()"
   ]
  },
  {
   "cell_type": "code",
   "execution_count": 95,
   "id": "c766f0f4-4ee1-45f3-b741-f3ff5276b243",
   "metadata": {},
   "outputs": [
    {
     "data": {
      "text/plain": [
       "Date        object\n",
       "Revenue    float64\n",
       "dtype: object"
      ]
     },
     "execution_count": 95,
     "metadata": {},
     "output_type": "execute_result"
    }
   ],
   "source": [
    "revenue_dataframe.dtypes"
   ]
  },
  {
   "cell_type": "markdown",
   "id": "daddf9fd-3aba-411e-af2a-4cb9fb25c95f",
   "metadata": {},
   "source": [
    "Now when revenue data extracted we need stocks price data."
   ]
  },
  {
   "cell_type": "markdown",
   "id": "d2cb3027-af05-4a04-bd3b-a56bc6d3b81a",
   "metadata": {},
   "source": [
    "## Extracting stock prices"
   ]
  },
  {
   "cell_type": "markdown",
   "id": "091a8c09-0e16-4a24-8db6-ead877566145",
   "metadata": {},
   "source": [
    "I'm going to use Yahoo finance API to extract stock prices history."
   ]
  },
  {
   "cell_type": "code",
   "execution_count": 96,
   "id": "f04696ab-4bc3-4a22-90b7-eb4c69e77853",
   "metadata": {},
   "outputs": [],
   "source": [
    "# Import library\n",
    "import yfinance as yf"
   ]
  },
  {
   "cell_type": "code",
   "execution_count": 97,
   "id": "369ad1fd-58c5-4797-8e2c-bba468c34bf1",
   "metadata": {},
   "outputs": [],
   "source": [
    "# Set ticker\n",
    "meta = yf.Ticker(\"META\")"
   ]
  },
  {
   "cell_type": "code",
   "execution_count": 98,
   "id": "59597e44-3786-4430-aa61-d6adbb08976b",
   "metadata": {},
   "outputs": [],
   "source": [
    "# Get history data\n",
    "hist = meta.history(period=\"max\")"
   ]
  },
  {
   "cell_type": "code",
   "execution_count": 99,
   "id": "197894ea-7e8f-4acc-923d-5a4749339e14",
   "metadata": {},
   "outputs": [
    {
     "data": {
      "text/html": [
       "<div>\n",
       "<style scoped>\n",
       "    .dataframe tbody tr th:only-of-type {\n",
       "        vertical-align: middle;\n",
       "    }\n",
       "\n",
       "    .dataframe tbody tr th {\n",
       "        vertical-align: top;\n",
       "    }\n",
       "\n",
       "    .dataframe thead th {\n",
       "        text-align: right;\n",
       "    }\n",
       "</style>\n",
       "<table border=\"1\" class=\"dataframe\">\n",
       "  <thead>\n",
       "    <tr style=\"text-align: right;\">\n",
       "      <th></th>\n",
       "      <th>Open</th>\n",
       "      <th>High</th>\n",
       "      <th>Low</th>\n",
       "      <th>Close</th>\n",
       "      <th>Volume</th>\n",
       "      <th>Dividends</th>\n",
       "      <th>Stock Splits</th>\n",
       "    </tr>\n",
       "    <tr>\n",
       "      <th>Date</th>\n",
       "      <th></th>\n",
       "      <th></th>\n",
       "      <th></th>\n",
       "      <th></th>\n",
       "      <th></th>\n",
       "      <th></th>\n",
       "      <th></th>\n",
       "    </tr>\n",
       "  </thead>\n",
       "  <tbody>\n",
       "    <tr>\n",
       "      <th>2012-05-18</th>\n",
       "      <td>42.049999</td>\n",
       "      <td>45.000000</td>\n",
       "      <td>38.000000</td>\n",
       "      <td>38.230000</td>\n",
       "      <td>573576400</td>\n",
       "      <td>0</td>\n",
       "      <td>0</td>\n",
       "    </tr>\n",
       "    <tr>\n",
       "      <th>2012-05-21</th>\n",
       "      <td>36.529999</td>\n",
       "      <td>36.660000</td>\n",
       "      <td>33.000000</td>\n",
       "      <td>34.029999</td>\n",
       "      <td>168192700</td>\n",
       "      <td>0</td>\n",
       "      <td>0</td>\n",
       "    </tr>\n",
       "    <tr>\n",
       "      <th>2012-05-22</th>\n",
       "      <td>32.610001</td>\n",
       "      <td>33.590000</td>\n",
       "      <td>30.940001</td>\n",
       "      <td>31.000000</td>\n",
       "      <td>101786600</td>\n",
       "      <td>0</td>\n",
       "      <td>0</td>\n",
       "    </tr>\n",
       "    <tr>\n",
       "      <th>2012-05-23</th>\n",
       "      <td>31.370001</td>\n",
       "      <td>32.500000</td>\n",
       "      <td>31.360001</td>\n",
       "      <td>32.000000</td>\n",
       "      <td>73600000</td>\n",
       "      <td>0</td>\n",
       "      <td>0</td>\n",
       "    </tr>\n",
       "    <tr>\n",
       "      <th>2012-05-24</th>\n",
       "      <td>32.950001</td>\n",
       "      <td>33.209999</td>\n",
       "      <td>31.770000</td>\n",
       "      <td>33.029999</td>\n",
       "      <td>50237200</td>\n",
       "      <td>0</td>\n",
       "      <td>0</td>\n",
       "    </tr>\n",
       "  </tbody>\n",
       "</table>\n",
       "</div>"
      ],
      "text/plain": [
       "                 Open       High        Low      Close     Volume  Dividends  \\\n",
       "Date                                                                           \n",
       "2012-05-18  42.049999  45.000000  38.000000  38.230000  573576400          0   \n",
       "2012-05-21  36.529999  36.660000  33.000000  34.029999  168192700          0   \n",
       "2012-05-22  32.610001  33.590000  30.940001  31.000000  101786600          0   \n",
       "2012-05-23  31.370001  32.500000  31.360001  32.000000   73600000          0   \n",
       "2012-05-24  32.950001  33.209999  31.770000  33.029999   50237200          0   \n",
       "\n",
       "            Stock Splits  \n",
       "Date                      \n",
       "2012-05-18             0  \n",
       "2012-05-21             0  \n",
       "2012-05-22             0  \n",
       "2012-05-23             0  \n",
       "2012-05-24             0  "
      ]
     },
     "execution_count": 99,
     "metadata": {},
     "output_type": "execute_result"
    }
   ],
   "source": [
    "hist.head()"
   ]
  },
  {
   "cell_type": "markdown",
   "id": "b0635041-5e20-4c07-b975-eb50d7b165cc",
   "metadata": {},
   "source": [
    "Let's visualise data"
   ]
  },
  {
   "cell_type": "code",
   "execution_count": 100,
   "id": "98c2bcca-dc70-4ee3-b9f8-daa624b8c15c",
   "metadata": {},
   "outputs": [
    {
     "data": {
      "text/plain": [
       "<AxesSubplot:xlabel='Date'>"
      ]
     },
     "execution_count": 100,
     "metadata": {},
     "output_type": "execute_result"
    },
    {
     "data": {
      "image/png": "[encoded data removed]",
      "text/plain": [
       "<Figure size 432x288 with 1 Axes>"
      ]
     },
     "metadata": {
      "needs_background": "light"
     },
     "output_type": "display_data"
    }
   ],
   "source": [
    "# Reset index\n",
    "hist.reset_index(inplace=True)\n",
    "# Plot the chart\n",
    "hist.plot(x=\"Date\", y=\"Close\")"
   ]
  },
  {
   "cell_type": "code",
   "execution_count": 101,
   "id": "0d7ecd49-060d-4b42-b5d6-3c42b6267746",
   "metadata": {},
   "outputs": [],
   "source": [
    "def join_price_and_revenue_dfs(price_df, revenue_df, shift=0):\n",
    "    # Returns new dataframe after comparison of the dates. \n",
    "\n",
    "    # Import required libraries\n",
    "    from datetime import datetime\n",
    "    from datetime import timedelta\n",
    "    \n",
    "    # Set last day var to determine since what day stock prices is availiable\n",
    "    last_history_date = hist.iloc[0,0]\n",
    "    # Set time delta\n",
    "    timedelta_object = timedelta(days=1)\n",
    "    # Create blank dataframe to save result\n",
    "    result_df = pd.DataFrame(columns=['date', 'revenue', 'price'])\n",
    "    \n",
    "    # Loop trought Revenue dataframe. \n",
    "    for index, row in revenue_df.iterrows():\n",
    "        \n",
    "        # Get date of the report. Then to exclude affection of the reports to the data\n",
    "        # I'll use dates two days, three days and for days before the report.\n",
    "        revenue_date = datetime.strptime(revenue_df.iloc[index, 0], \"%Y-%m-%d\")\n",
    "        two_days_before_revenue_date = revenue_date - timedelta_object * 2\n",
    "        three_days_before_revenue_date = revenue_date - timedelta_object * 3\n",
    "        four_days_before_revenue_date = revenue_date - timedelta_object * 4\n",
    "        \n",
    "        # Check for revenue report days before IPO\n",
    "        if revenue_date < last_history_date:\n",
    "            break\n",
    "            \n",
    "        # Search for report date in second dataframe \n",
    "        i=0\n",
    "        for price_index, price_row in price_df.iterrows():\n",
    "            # Get date from second dataframe\n",
    "            price_date = price_df.iloc[price_index, 0]\n",
    "            \n",
    "            # If date(four days before report) found in prices DF then set 'price' var etc... \n",
    "            if price_date == four_days_before_revenue_date:\n",
    "                price = price_df.iloc[price_index - 2, 4]\n",
    "                i=1\n",
    "            if price_date == three_days_before_revenue_date:\n",
    "                price = price_df.iloc[price_index - 1, 4]\n",
    "                i=2               \n",
    "            if price_date == two_days_before_revenue_date:\n",
    "                price = price_df.iloc[price_index, 4]\n",
    "                i=3\n",
    "            else:\n",
    "                 continue  \n",
    "        # Built result dataframe            \n",
    "        result_df = result_df.append({\"date\":revenue_date, \"revenue\":revenue_df.iloc[index, 1], \"price\":price}, ignore_index=True)\n",
    "    return result_df"
   ]
  },
  {
   "cell_type": "code",
   "execution_count": 102,
   "id": "4464fbe8-0a72-4e47-918f-6f6c743518f1",
   "metadata": {},
   "outputs": [],
   "source": [
    "price_rev_df = join_price_and_revenue_dfs(hist, revenue_dataframe)"
   ]
  },
  {
   "cell_type": "markdown",
   "id": "42ba7176-4c4f-428e-a26d-b3cc1c867efb",
   "metadata": {},
   "source": [
    "The theory is that after the report date we should wait aproximately 3 month to see  how this report affected to the market price. So current report data will be used for predictions to the next 3 month.\n",
    "For this purposes we need shif price column down to 1 row."
   ]
  },
  {
   "cell_type": "code",
   "execution_count": 103,
   "id": "da1cd3d4-44ba-47d0-9d69-b26820c4fcf8",
   "metadata": {},
   "outputs": [],
   "source": [
    "# Clone dataframe\n",
    "price_rev_df_shifted = price_rev_df \n",
    "# Shift price column\n",
    "price_rev_df_shifted['price'] = price_rev_df_shifted['price'].shift(1)"
   ]
  },
  {
   "cell_type": "code",
   "execution_count": 104,
   "id": "5a8fba74-3589-45b4-a438-20e0060e6a5c",
   "metadata": {},
   "outputs": [
    {
     "data": {
      "text/html": [
       "<div>\n",
       "<style scoped>\n",
       "    .dataframe tbody tr th:only-of-type {\n",
       "        vertical-align: middle;\n",
       "    }\n",
       "\n",
       "    .dataframe tbody tr th {\n",
       "        vertical-align: top;\n",
       "    }\n",
       "\n",
       "    .dataframe thead th {\n",
       "        text-align: right;\n",
       "    }\n",
       "</style>\n",
       "<table border=\"1\" class=\"dataframe\">\n",
       "  <thead>\n",
       "    <tr style=\"text-align: right;\">\n",
       "      <th></th>\n",
       "      <th>date</th>\n",
       "      <th>revenue</th>\n",
       "      <th>price</th>\n",
       "    </tr>\n",
       "  </thead>\n",
       "  <tbody>\n",
       "    <tr>\n",
       "      <th>0</th>\n",
       "      <td>2022-06-30</td>\n",
       "      <td>28822.0</td>\n",
       "      <td>NaN</td>\n",
       "    </tr>\n",
       "    <tr>\n",
       "      <th>1</th>\n",
       "      <td>2022-03-31</td>\n",
       "      <td>27908.0</td>\n",
       "      <td>160.679993</td>\n",
       "    </tr>\n",
       "    <tr>\n",
       "      <th>2</th>\n",
       "      <td>2021-12-31</td>\n",
       "      <td>33671.0</td>\n",
       "      <td>229.860001</td>\n",
       "    </tr>\n",
       "    <tr>\n",
       "      <th>3</th>\n",
       "      <td>2021-09-30</td>\n",
       "      <td>29010.0</td>\n",
       "      <td>342.940002</td>\n",
       "    </tr>\n",
       "    <tr>\n",
       "      <th>4</th>\n",
       "      <td>2021-06-30</td>\n",
       "      <td>29077.0</td>\n",
       "      <td>340.649994</td>\n",
       "    </tr>\n",
       "  </tbody>\n",
       "</table>\n",
       "</div>"
      ],
      "text/plain": [
       "        date  revenue       price\n",
       "0 2022-06-30  28822.0         NaN\n",
       "1 2022-03-31  27908.0  160.679993\n",
       "2 2021-12-31  33671.0  229.860001\n",
       "3 2021-09-30  29010.0  342.940002\n",
       "4 2021-06-30  29077.0  340.649994"
      ]
     },
     "execution_count": 104,
     "metadata": {},
     "output_type": "execute_result"
    }
   ],
   "source": [
    "price_rev_df_shifted.head()"
   ]
  },
  {
   "cell_type": "markdown",
   "id": "e81fd78c-0fe1-4efe-b8fd-6bdf5c7324df",
   "metadata": {},
   "source": [
    "Now we can visualise the data using scatterplot"
   ]
  },
  {
   "cell_type": "code",
   "execution_count": 105,
   "id": "fa036b7a-5d84-446d-86f5-30f34727d56e",
   "metadata": {},
   "outputs": [
    {
     "data": {
      "text/plain": [
       "<AxesSubplot:xlabel='revenue', ylabel='price'>"
      ]
     },
     "execution_count": 105,
     "metadata": {},
     "output_type": "execute_result"
    },
    {
     "data": {
      "image/png": "[encoded data removed]",
      "text/plain": [
       "<Figure size 432x288 with 1 Axes>"
      ]
     },
     "metadata": {
      "needs_background": "light"
     },
     "output_type": "display_data"
    }
   ],
   "source": [
    "price_rev_df_shifted.plot(x='revenue', y='price', kind=\"scatter\")"
   ]
  },
  {
   "cell_type": "markdown",
   "id": "27fea1b8-80e8-45cd-8a84-58d87cc91580",
   "metadata": {},
   "source": [
    "As we can see linear regression models can be used to predict future price."
   ]
  },
  {
   "cell_type": "markdown",
   "id": "d7ca7457-bcd3-43c9-becf-e1280503a8b7",
   "metadata": {},
   "source": [
    "## Linear model prediction"
   ]
  },
  {
   "cell_type": "markdown",
   "id": "01028b38-8e98-4504-b3a9-cfd085a272c0",
   "metadata": {},
   "source": [
    "Since we have dataframe and know that there is linear correlation between <b>price</b> and <b>revenue</b> we can build linear regression model. Let's jump right in."
   ]
  },
  {
   "cell_type": "code",
   "execution_count": 106,
   "id": "4cf412ce-cb5e-407c-98ef-fda51b8a8cc5",
   "metadata": {},
   "outputs": [],
   "source": [
    "# Import libraries\n",
    "import numpy as np\n",
    "# Preprocessing allows us to standarsize our data\n",
    "from sklearn import preprocessing\n",
    "# Allows us to split our data into training and testing data\n",
    "from sklearn.model_selection import train_test_split\n",
    "# Linear model algorithm\n",
    "from sklearn import linear_model"
   ]
  },
  {
   "cell_type": "markdown",
   "id": "9bf80a32-b193-4148-9931-4dfca469e2fb",
   "metadata": {},
   "source": [
    "Cut of first row with NaN and date column."
   ]
  },
  {
   "cell_type": "code",
   "execution_count": 131,
   "id": "db74e1d6-5ce9-47e7-9e82-e91e65d02329",
   "metadata": {},
   "outputs": [
    {
     "data": {
      "text/html": [
       "<div>\n",
       "<style scoped>\n",
       "    .dataframe tbody tr th:only-of-type {\n",
       "        vertical-align: middle;\n",
       "    }\n",
       "\n",
       "    .dataframe tbody tr th {\n",
       "        vertical-align: top;\n",
       "    }\n",
       "\n",
       "    .dataframe thead th {\n",
       "        text-align: right;\n",
       "    }\n",
       "</style>\n",
       "<table border=\"1\" class=\"dataframe\">\n",
       "  <thead>\n",
       "    <tr style=\"text-align: right;\">\n",
       "      <th></th>\n",
       "      <th>revenue</th>\n",
       "      <th>price</th>\n",
       "    </tr>\n",
       "  </thead>\n",
       "  <tbody>\n",
       "    <tr>\n",
       "      <th>1</th>\n",
       "      <td>27908.0</td>\n",
       "      <td>160.679993</td>\n",
       "    </tr>\n",
       "    <tr>\n",
       "      <th>2</th>\n",
       "      <td>33671.0</td>\n",
       "      <td>229.860001</td>\n",
       "    </tr>\n",
       "    <tr>\n",
       "      <th>3</th>\n",
       "      <td>29010.0</td>\n",
       "      <td>342.940002</td>\n",
       "    </tr>\n",
       "    <tr>\n",
       "      <th>4</th>\n",
       "      <td>29077.0</td>\n",
       "      <td>340.649994</td>\n",
       "    </tr>\n",
       "    <tr>\n",
       "      <th>5</th>\n",
       "      <td>26171.0</td>\n",
       "      <td>355.640015</td>\n",
       "    </tr>\n",
       "  </tbody>\n",
       "</table>\n",
       "</div>"
      ],
      "text/plain": [
       "   revenue       price\n",
       "1  27908.0  160.679993\n",
       "2  33671.0  229.860001\n",
       "3  29010.0  342.940002\n",
       "4  29077.0  340.649994\n",
       "5  26171.0  355.640015"
      ]
     },
     "execution_count": 131,
     "metadata": {},
     "output_type": "execute_result"
    }
   ],
   "source": [
    "price_rev_df_shifted_without_first_row = price_rev_df_shifted[['revenue','price']][1:len(price_rev_df_shifted)]\n",
    "price_rev_df_shifted_without_first_row.head()"
   ]
  },
  {
   "cell_type": "code",
   "execution_count": 142,
   "id": "993e0072-9d6f-4864-a258-6a239bc6a51c",
   "metadata": {},
   "outputs": [
    {
     "data": {
      "text/html": [
       "<div>\n",
       "<style scoped>\n",
       "    .dataframe tbody tr th:only-of-type {\n",
       "        vertical-align: middle;\n",
       "    }\n",
       "\n",
       "    .dataframe tbody tr th {\n",
       "        vertical-align: top;\n",
       "    }\n",
       "\n",
       "    .dataframe thead th {\n",
       "        text-align: right;\n",
       "    }\n",
       "</style>\n",
       "<table border=\"1\" class=\"dataframe\">\n",
       "  <thead>\n",
       "    <tr style=\"text-align: right;\">\n",
       "      <th></th>\n",
       "      <th>revenue</th>\n",
       "      <th>price</th>\n",
       "    </tr>\n",
       "  </thead>\n",
       "  <tbody>\n",
       "    <tr>\n",
       "      <th>0</th>\n",
       "      <td>28822.0</td>\n",
       "      <td>NaN</td>\n",
       "    </tr>\n",
       "  </tbody>\n",
       "</table>\n",
       "</div>"
      ],
      "text/plain": [
       "   revenue  price\n",
       "0  28822.0    NaN"
      ]
     },
     "execution_count": 142,
     "metadata": {},
     "output_type": "execute_result"
    }
   ],
   "source": [
    "price_rev_first_row = price_rev_df_shifted[['revenue','price']][0:1]\n",
    "price_rev_first_row"
   ]
  },
  {
   "cell_type": "markdown",
   "id": "8afff723-7cfe-4f66-b670-72a74067d8cf",
   "metadata": {},
   "source": [
    "Create train and test dataset"
   ]
  },
  {
   "cell_type": "code",
   "execution_count": 132,
   "id": "8f27b338-e56d-4195-ab58-090371998a96",
   "metadata": {},
   "outputs": [
    {
     "data": {
      "text/plain": [
       "revenue    float64\n",
       "price      float64\n",
       "dtype: object"
      ]
     },
     "execution_count": 132,
     "metadata": {},
     "output_type": "execute_result"
    }
   ],
   "source": [
    "# Check for data types\n",
    "price_rev_df_shifted_without_first_row.dtypes"
   ]
  },
  {
   "cell_type": "code",
   "execution_count": 134,
   "id": "81bfdb46-b1d3-4397-a488-0cffc13cec70",
   "metadata": {},
   "outputs": [],
   "source": [
    "# Split test and train data\n",
    "msk = np.random.rand(len(price_rev_df_shifted_without_first_row)) < 0.8\n",
    "train = price_rev_df_shifted_without_first_row[msk]\n",
    "test = price_rev_df_shifted_without_first_row[~msk]"
   ]
  },
  {
   "cell_type": "markdown",
   "id": "3d5e1446-df91-43b8-b5b8-851d6ddb146c",
   "metadata": {},
   "source": [
    "When dataframe splited build the model"
   ]
  },
  {
   "cell_type": "code",
   "execution_count": 138,
   "id": "564f9a3a-f20d-49c6-88dd-bf4395ddc3e5",
   "metadata": {},
   "outputs": [
    {
     "name": "stdout",
     "output_type": "stream",
     "text": [
      "Coefficients:  [[0.00872973]]\n"
     ]
    }
   ],
   "source": [
    "# Built the model\n",
    "regr = linear_model.LinearRegression()\n",
    "x = np.asanyarray(train[['revenue']])\n",
    "y = np.asanyarray(train[['price']])\n",
    "regr.fit (x, y)\n",
    "# The coefficients\n",
    "print ('Coefficients: ', regr.coef_)"
   ]
  },
  {
   "cell_type": "code",
   "execution_count": 139,
   "id": "b3f553a2-4565-4192-8f84-b30a3a2c957d",
   "metadata": {},
   "outputs": [
    {
     "name": "stdout",
     "output_type": "stream",
     "text": [
      "Residual sum of squares: 3872.44\n",
      "Variance score: 0.63\n"
     ]
    }
   ],
   "source": [
    "y_hat= regr.predict(test[['revenue']])\n",
    "x = np.asanyarray(test[['revenue']])\n",
    "y = np.asanyarray(test[['price']])\n",
    "print(\"Residual sum of squares: %.2f\"\n",
    "      % np.mean((y_hat - y) ** 2))\n",
    "\n",
    "# Explained variance score: 1 is perfect prediction\n",
    "print('Variance score: %.2f' % regr.score(x, y))"
   ]
  },
  {
   "cell_type": "code",
   "execution_count": 143,
   "id": "ec3ba606-05bc-460b-a535-adcccb1e8df8",
   "metadata": {},
   "outputs": [],
   "source": [
    "y_hat= regr.predict(price_rev_first_row[['revenue']])"
   ]
  },
  {
   "cell_type": "code",
   "execution_count": 147,
   "id": "18189bbe-b244-4217-8b8d-f7e031c34ce8",
   "metadata": {},
   "outputs": [
    {
     "name": "stdout",
     "output_type": "stream",
     "text": [
      "Predicted price:  300.4587480929705\n"
     ]
    }
   ],
   "source": [
    "print(\"Predicted price: \",y_hat[0,0])"
   ]
  },
  {
   "cell_type": "code",
   "execution_count": null,
   "id": "73f1a324-7f92-4f06-8ecb-ed1e7b98f181",
   "metadata": {},
   "outputs": [],
   "source": []
  }
 ],
 "metadata": {
  "kernelspec": {
   "display_name": "Python 3 (ipykernel)",
   "language": "python",
   "name": "python3"
  },
  "language_info": {
   "codemirror_mode": {
    "name": "ipython",
    "version": 3
   },
   "file_extension": ".py",
   "mimetype": "text/x-python",
   "name": "python",
   "nbconvert_exporter": "python",
   "pygments_lexer": "ipython3",
   "version": "3.9.7"
  }
 },
 "nbformat": 4,
 "nbformat_minor": 5
}
