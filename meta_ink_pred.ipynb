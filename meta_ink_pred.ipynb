{
 "cells": [
  {
   "cell_type": "markdown",
   "id": "24b74e01-c728-4884-9628-92095c57719a",
   "metadata": {},
   "source": [
    "# Meta Inc. Stock price predictions"
   ]
  },
  {
   "cell_type": "markdown",
   "id": "37f2839c-e71c-4616-8cc5-22847dbe8a85",
   "metadata": {},
   "source": [
    "Let's take a look to stock prices and market capitalisation as a result of how market reacts to financial statistics of the company. \n",
    "First of all we need to extract financial statistics from the web. After that we need to determine affection of this statistics to stock price and discover correlation.\n",
    "Final step will be building model to predict market capitalisation for the next quorter."
   ]
  },
  {
   "cell_type": "markdown",
   "id": "efcba19b-d5b5-4705-9854-f3c67a8edb4e",
   "metadata": {},
   "source": [
    "Import libraries"
   ]
  },
  {
   "cell_type": "code",
   "execution_count": 1,
   "id": "e2f9f7a1-e553-46f9-a68b-d42569eff49d",
   "metadata": {},
   "outputs": [
    {
     "name": "stdout",
     "output_type": "stream",
     "text": [
      "\n",
      "                  __    __    __    __\n",
      "                 /  \\  /  \\  /  \\  /  \\\n",
      "                /    \\/    \\/    \\/    \\\n",
      "███████████████/  /██/  /██/  /██/  /████████████████████████\n",
      "              /  / \\   / \\   / \\   / \\  \\____\n",
      "             /  /   \\_/   \\_/   \\_/   \\    o \\__,\n",
      "            / _/                       \\_____/  `\n",
      "            |/\n",
      "        ███╗   ███╗ █████╗ ███╗   ███╗██████╗  █████╗\n",
      "        ████╗ ████║██╔══██╗████╗ ████║██╔══██╗██╔══██╗\n",
      "        ██╔████╔██║███████║██╔████╔██║██████╔╝███████║\n",
      "        ██║╚██╔╝██║██╔══██║██║╚██╔╝██║██╔══██╗██╔══██║\n",
      "        ██║ ╚═╝ ██║██║  ██║██║ ╚═╝ ██║██████╔╝██║  ██║\n",
      "        ╚═╝     ╚═╝╚═╝  ╚═╝╚═╝     ╚═╝╚═════╝ ╚═╝  ╚═╝\n",
      "\n",
      "        mamba (0.7.6) supported by @QuantStack\n",
      "\n",
      "        GitHub:  https://github.com/mamba-org/mamba\n",
      "        Twitter: https://twitter.com/QuantStack\n",
      "\n",
      "█████████████████████████████████████████████████████████████\n",
      "\n",
      "\n",
      "Looking for: ['bs4==4.10.0']\n",
      "\n",
      "pkgs/main/linux-64       [>                   ] (--:--) No change\n",
      "pkgs/main/linux-64       [====================] (00m:00s) No change\n",
      "pkgs/main/linux-64       [====================] (00m:00s) No change\n",
      "pkgs/main/noarch         [=>                  ] (--:--) No change\n",
      "pkgs/main/noarch         [====================] (00m:00s) No change\n",
      "pkgs/main/noarch         [====================] (00m:00s) No change\n",
      "pkgs/r/linux-64          [=>                  ] (--:--) No change\n",
      "pkgs/r/linux-64          [====================] (00m:00s) No change\n",
      "pkgs/r/linux-64          [====================] (00m:00s) No change\n",
      "pkgs/r/noarch            [=>                  ] (--:--) No change\n",
      "pkgs/r/noarch            [====================] (00m:00s) No change\n",
      "pkgs/r/noarch            [====================] (00m:00s) No change\n",
      "Transaction\n",
      "\n",
      "  Prefix: /home/timur/anaconda3\n",
      "\n",
      "  All requested packages already installed\n",
      "\n",
      "\n",
      "                  __    __    __    __\n",
      "                 /  \\  /  \\  /  \\  /  \\\n",
      "                /    \\/    \\/    \\/    \\\n",
      "███████████████/  /██/  /██/  /██/  /████████████████████████\n",
      "              /  / \\   / \\   / \\   / \\  \\____\n",
      "             /  /   \\_/   \\_/   \\_/   \\    o \\__,\n",
      "            / _/                       \\_____/  `\n",
      "            |/\n",
      "        ███╗   ███╗ █████╗ ███╗   ███╗██████╗  █████╗\n",
      "        ████╗ ████║██╔══██╗████╗ ████║██╔══██╗██╔══██╗\n",
      "        ██╔████╔██║███████║██╔████╔██║██████╔╝███████║\n",
      "        ██║╚██╔╝██║██╔══██║██║╚██╔╝██║██╔══██╗██╔══██║\n",
      "        ██║ ╚═╝ ██║██║  ██║██║ ╚═╝ ██║██████╔╝██║  ██║\n",
      "        ╚═╝     ╚═╝╚═╝  ╚═╝╚═╝     ╚═╝╚═════╝ ╚═╝  ╚═╝\n",
      "\n",
      "        mamba (0.7.6) supported by @QuantStack\n",
      "\n",
      "        GitHub:  https://github.com/mamba-org/mamba\n",
      "        Twitter: https://twitter.com/QuantStack\n",
      "\n",
      "█████████████████████████████████████████████████████████████\n",
      "\n",
      "\n",
      "Looking for: ['html5lib==1.1']\n",
      "\n",
      "pkgs/main/linux-64       Using cache\n",
      "pkgs/main/noarch         Using cache\n",
      "pkgs/r/linux-64          Using cache\n",
      "pkgs/r/noarch            Using cache\n",
      "Transaction\n",
      "\n",
      "  Prefix: /home/timur/anaconda3\n",
      "\n",
      "  All requested packages already installed\n",
      "\n"
     ]
    }
   ],
   "source": [
    "import pandas as pd\n",
    "!mamba install bs4==4.10.0 -y\n",
    "!mamba install html5lib==1.1 -y"
   ]
  },
  {
   "cell_type": "code",
   "execution_count": 2,
   "id": "4d2cd1f6-ef02-4372-b238-ea0166ec327a",
   "metadata": {},
   "outputs": [],
   "source": [
    "#Import libraries for webscrapping\n",
    "import requests\n",
    "from bs4 import BeautifulSoup"
   ]
  },
  {
   "cell_type": "markdown",
   "id": "e18afb89-bc39-432c-82a7-dc14314c0692",
   "metadata": {},
   "source": [
    "Set url and get request"
   ]
  },
  {
   "cell_type": "code",
   "execution_count": 3,
   "id": "a73ba4a6-9136-40d1-9baf-90c9e186949a",
   "metadata": {},
   "outputs": [
    {
     "data": {
      "text/plain": [
       "<title>Meta Platforms Revenue 2010-2022 | META | MacroTrends</title>"
      ]
     },
     "execution_count": 3,
     "metadata": {},
     "output_type": "execute_result"
    }
   ],
   "source": [
    "url = \"https://www.macrotrends.net/stocks/charts/META/meta-platforms/revenue\"\n",
    "\n",
    "html_data = requests.get(url).text   #get data from the webpage\n",
    "souped_html = BeautifulSoup(html_data, 'html5lib') #Use beautifulsoup\n",
    "souped_html.title"
   ]
  },
  {
   "cell_type": "code",
   "execution_count": 4,
   "id": "3cac8462-8de8-410c-a9f7-b10252e35478",
   "metadata": {},
   "outputs": [
    {
     "name": "stdout",
     "output_type": "stream",
     "text": [
      "Missed rows: 1\n"
     ]
    }
   ],
   "source": [
    "# Find the second table with Quarterly Revenue /or use 0 for first table\n",
    "revenue_table = souped_html.find_all('table')[1]   \n",
    "\n",
    "#Create blank dataframe \n",
    "revenue_dataframe = pd.DataFrame(columns=[\"Date\", \"Revenue\"]) \n",
    " \n",
    "# Find all tr tags and put data into Dataframe\n",
    "count_of_missed_rows = 0\n",
    "for row in revenue_table.find(\"tbody\").find_all(\"tr\"):  \n",
    "\n",
    "    col = row.find_all(\"td\") \n",
    "    date = col[0].text \n",
    "    Revenue = col[1].text\n",
    "    Revenue = Revenue.replace('$', '').replace(',', '')\n",
    "\n",
    "    if Revenue.isdigit():\n",
    "        Revenue = float(Revenue)\n",
    "        revenue_dataframe = revenue_dataframe.append({\"Date\":date, \"Revenue\":Revenue}, ignore_index=True)\n",
    "    else: \n",
    "        count_of_missed_rows = count_of_missed_rows + 1\n",
    "        \n",
    "print(\"Missed rows:\", count_of_missed_rows) #How many rows were missed"
   ]
  },
  {
   "cell_type": "code",
   "execution_count": 5,
   "id": "933cc496-892b-4c4b-8f0b-8c5fb6d8e436",
   "metadata": {},
   "outputs": [],
   "source": [
    "market_cap_url = \"https://www.marketcaphistory.com/meta-platforms/\""
   ]
  },
  {
   "cell_type": "code",
   "execution_count": 9,
   "id": "56617172-a7a8-4a62-b327-681bbc199e8e",
   "metadata": {},
   "outputs": [
    {
     "data": {
      "text/plain": [
       "<title>Meta Platforms Market Cap History</title>"
      ]
     },
     "execution_count": 9,
     "metadata": {},
     "output_type": "execute_result"
    }
   ],
   "source": [
    "html_data_mc = requests.get(market_cap_url).text   #get data from the webpage\n",
    "souped_html_mc = BeautifulSoup(html_data_mc, 'html5lib') #Use beautifulsoup\n",
    "souped_html_mc.title"
   ]
  },
  {
   "cell_type": "code",
   "execution_count": 10,
   "id": "5033ef2b-11e0-4685-9db5-e155bb8f5feb",
   "metadata": {},
   "outputs": [],
   "source": [
    "# Find the second table with Quarterly Revenue /or use 0 for first table\n",
    "mc_table = souped_html_mc.find_all('table')  \n",
    "\n",
    "#Create blank dataframe \n",
    "mc_dataframe = pd.DataFrame(columns=[\"Date\", \"Market Capitalisation\"])"
   ]
  },
  {
   "cell_type": "code",
   "execution_count": 12,
   "id": "590e9af7-550b-474e-8f5d-ee771243d3b1",
   "metadata": {},
   "outputs": [
    {
     "data": {
      "text/plain": [
       "<table cellpadding=\"0\" cellspacing=\"0\" class=\"infotable\">\n",
       "<tbody><tr><td class=\"menu-item\">FB Market Cap History Table</td></tr>\n",
       "<tr><td class=\"infotablebox\"><font face=\"Arial\" size=\"2\">Below is a table of the <strong>Meta Platforms market cap history</strong> going back to 5/18/2012:</font><p>\n",
       "</p><table cellpadding=\"4\" cellspacing=\"0\" style=\"margin-top: 20px\" width=\"290\">\n",
       "<tbody><tr><td align=\"center\" style=\"padding: 6px; background-color: #EEEEEE; border-bottom: 1px solid #CCCCCC; font-size: 13px;\" width=\"40%\"><i><b>Date</b></i></td>\n",
       "<td align=\"center\" style=\"padding: 6px; background-color: #EEEEEE; border-bottom: 1px solid #CCCCCC; font-size: 13px;\" width=\"60%\"><i><b>FB Market Cap</b></i></td></tr>\n",
       "<tr><td align=\"center\" class=\"tstyle\"><i>5/18/2012</i></td><td align=\"center\" class=\"tstyle\">24.31B</td></tr><tr><td align=\"center\" class=\"tstyle\"><i>7/25/2012</i></td><td align=\"center\" class=\"tstyle\">19.79B</td></tr><tr><td align=\"center\" class=\"tstyle\"><i>10/22/2012</i></td><td align=\"center\" class=\"tstyle\">21.24B</td></tr><tr><td align=\"center\" class=\"tstyle\"><i>1/29/2013</i></td><td align=\"center\" class=\"tstyle\">51.86B</td></tr><tr><td align=\"center\" class=\"tstyle\"><i>4/30/2013</i></td><td align=\"center\" class=\"tstyle\">48.59B</td></tr><tr><td align=\"center\" class=\"tstyle\"><i>7/23/2013</i></td><td align=\"center\" class=\"tstyle\">47.49B</td></tr><tr><td align=\"center\" class=\"tstyle\"><i>10/29/2013</i></td><td align=\"center\" class=\"tstyle\">92.58B</td></tr><tr><td align=\"center\" class=\"tstyle\"><i>1/28/2014</i></td><td align=\"center\" class=\"tstyle\">108.94B</td></tr><tr><td align=\"center\" class=\"tstyle\"><i>4/22/2014</i></td><td align=\"center\" class=\"tstyle\">125.66B</td></tr><tr><td align=\"center\" class=\"tstyle\"><i>7/22/2014</i></td><td align=\"center\" class=\"tstyle\">139.58B</td></tr><tr><td align=\"center\" class=\"tstyle\"><i>10/27/2014</i></td><td align=\"center\" class=\"tstyle\">178.54B</td></tr><tr><td align=\"center\" class=\"tstyle\"><i>1/27/2015</i></td><td align=\"center\" class=\"tstyle\">169.47B</td></tr><tr><td align=\"center\" class=\"tstyle\"><i>4/21/2015</i></td><td align=\"center\" class=\"tstyle\">188.05B</td></tr><tr><td align=\"center\" class=\"tstyle\"><i>7/27/2015</i></td><td align=\"center\" class=\"tstyle\">212.80B</td></tr><tr><td align=\"center\" class=\"tstyle\"><i>11/2/2015</i></td><td align=\"center\" class=\"tstyle\">234.56B</td></tr><tr><td align=\"center\" class=\"tstyle\"><i>1/25/2016</i></td><td align=\"center\" class=\"tstyle\">222.63B</td></tr><tr><td align=\"center\" class=\"tstyle\"><i>4/25/2016</i></td><td align=\"center\" class=\"tstyle\">254.54B</td></tr><tr><td align=\"center\" class=\"tstyle\"><i>7/25/2016</i></td><td align=\"center\" class=\"tstyle\">282.54B</td></tr><tr><td align=\"center\" class=\"tstyle\"><i>10/28/2016</i></td><td align=\"center\" class=\"tstyle\">307.33B</td></tr><tr><td align=\"center\" class=\"tstyle\"><i>1/30/2017</i></td><td align=\"center\" class=\"tstyle\">308.48B</td></tr><tr><td align=\"center\" class=\"tstyle\"><i>5/1/2017</i></td><td align=\"center\" class=\"tstyle\">360.53B</td></tr><tr><td align=\"center\" class=\"tstyle\"><i>7/24/2017</i></td><td align=\"center\" class=\"tstyle\">393.48B</td></tr><tr><td align=\"center\" class=\"tstyle\"><i>10/30/2017</i></td><td align=\"center\" class=\"tstyle\">428.95B</td></tr><tr><td align=\"center\" class=\"tstyle\"><i>1/29/2018</i></td><td align=\"center\" class=\"tstyle\">445.59B</td></tr><tr><td align=\"center\" class=\"tstyle\"><i>4/23/2018</i></td><td align=\"center\" class=\"tstyle\">397.78B</td></tr><tr><td align=\"center\" class=\"tstyle\"><i>7/23/2018</i></td><td align=\"center\" class=\"tstyle\">508.65B</td></tr><tr><td align=\"center\" class=\"tstyle\"><i>10/26/2018</i></td><td align=\"center\" class=\"tstyle\">349.25B</td></tr><tr><td align=\"center\" class=\"tstyle\"><i>1/28/2019</i></td><td align=\"center\" class=\"tstyle\">351.79B</td></tr><tr><td align=\"center\" class=\"tstyle\"><i>4/22/2019</i></td><td align=\"center\" class=\"tstyle\">435.92B</td></tr><tr><td align=\"center\" class=\"tstyle\"><i>7/19/2019</i></td><td align=\"center\" class=\"tstyle\">477.20B</td></tr><tr><td align=\"center\" class=\"tstyle\"><i>8/10/2015</i></td><td align=\"center\" class=\"tstyle\">573.41M</td></tr><tr><td align=\"center\" class=\"tstyle\"><i>10/25/2019</i></td><td align=\"center\" class=\"tstyle\">452.15B</td></tr><tr><td align=\"center\" class=\"tstyle\"><i>1/23/2020</i></td><td align=\"center\" class=\"tstyle\">528.69B</td></tr><tr><td align=\"center\" class=\"tstyle\"><i>4/24/2020</i></td><td align=\"center\" class=\"tstyle\">457.03B</td></tr><tr><td align=\"center\" class=\"tstyle\"><i>7/23/2020</i></td><td align=\"center\" class=\"tstyle\">559.24B</td></tr><tr><td align=\"center\" class=\"tstyle\"><i>10/23/2020</i></td><td align=\"center\" class=\"tstyle\">684.63B</td></tr><tr><td align=\"center\" class=\"tstyle\"><i>1/22/2021</i></td><td align=\"center\" class=\"tstyle\">660.30B</td></tr><tr><td align=\"center\" class=\"tstyle\"><i>4/23/2021</i></td><td align=\"center\" class=\"tstyle\">721.52B</td></tr><tr><td align=\"center\" class=\"tstyle\"><i>7/23/2021</i></td><td align=\"center\" class=\"tstyle\">881.51B</td></tr><tr><td align=\"center\" class=\"tstyle\"><i>10/20/2021</i></td><td align=\"center\" class=\"tstyle\">806.38B</td></tr><tr><td align=\"center\" class=\"tstyle\"><i>1/28/2022</i></td><td align=\"center\" class=\"tstyle\">696.67B</td></tr><tr><td align=\"center\" class=\"tstyle\"><i>4/22/2022</i></td><td align=\"center\" class=\"tstyle\">422.26B</td></tr></tbody></table><br/><small>Also see: <a href=\"https://www.sharesoutstandinghistory.com/fb/\">FB Shares Outstanding History</a><br/>\n",
       "and <a href=\"https://www.ytdreturn.com/fb/\">FB YTD Return</a><br/></small></td></tr>\n",
       "</tbody></table>"
      ]
     },
     "execution_count": 12,
     "metadata": {},
     "output_type": "execute_result"
    }
   ],
   "source": [
    "mc_table[0]"
   ]
  },
  {
   "cell_type": "code",
   "execution_count": null,
   "id": "90b11e88-43e8-4783-9276-e948c7e56c82",
   "metadata": {},
   "outputs": [],
   "source": []
  }
 ],
 "metadata": {
  "kernelspec": {
   "display_name": "Python 3 (ipykernel)",
   "language": "python",
   "name": "python3"
  },
  "language_info": {
   "codemirror_mode": {
    "name": "ipython",
    "version": 3
   },
   "file_extension": ".py",
   "mimetype": "text/x-python",
   "name": "python",
   "nbconvert_exporter": "python",
   "pygments_lexer": "ipython3",
   "version": "3.9.7"
  }
 },
 "nbformat": 4,
 "nbformat_minor": 5
}
